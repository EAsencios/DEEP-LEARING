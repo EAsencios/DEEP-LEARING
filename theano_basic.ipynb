{
  "nbformat": 4,
  "nbformat_minor": 0,
  "metadata": {
    "colab": {
      "name": "theano_basic.ipynb",
      "provenance": [],
      "authorship_tag": "ABX9TyOFxI6s/0S9ZF+T+GINyG3o",
      "include_colab_link": true
    },
    "kernelspec": {
      "name": "python3",
      "display_name": "Python 3"
    },
    "language_info": {
      "name": "python"
    }
  },
  "cells": [
    {
      "cell_type": "markdown",
      "metadata": {
        "id": "view-in-github",
        "colab_type": "text"
      },
      "source": [
        "<a href=\"https://colab.research.google.com/github/EAsencios/DEEP-LEARING/blob/master/theano_basic.ipynb\" target=\"_parent\"><img src=\"https://colab.research.google.com/assets/colab-badge.svg\" alt=\"Open In Colab\"/></a>"
      ]
    },
    {
      "cell_type": "code",
      "execution_count": 3,
      "metadata": {
        "id": "Z1r65JrycSUQ"
      },
      "outputs": [],
      "source": [
        "import numpy\n",
        "import theano.tensor as T\n",
        "from theano import function"
      ]
    },
    {
      "cell_type": "code",
      "source": [
        "x = T.dscalar('x')\n",
        "y = T.dscalar('y')\n",
        "z = x + y\n",
        "f = function([x, y], z)\n",
        "f(8, 2)"
      ],
      "metadata": {
        "colab": {
          "base_uri": "https://localhost:8080/"
        },
        "id": "FwrI9aklfafv",
        "outputId": "d023f10c-eb25-4d5e-9fcd-2e6e3919893e"
      },
      "execution_count": 6,
      "outputs": [
        {
          "output_type": "execute_result",
          "data": {
            "text/plain": [
              "array(10.)"
            ]
          },
          "metadata": {},
          "execution_count": 6
        }
      ]
    }
  ]
}