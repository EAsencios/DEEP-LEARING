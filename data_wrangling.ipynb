{
  "nbformat": 4,
  "nbformat_minor": 0,
  "metadata": {
    "colab": {
      "name": "data_wrangling.ipynb",
      "provenance": [],
      "authorship_tag": "ABX9TyN4ZNv0rz3S2Zm2L4mKKu4Z",
      "include_colab_link": true
    },
    "kernelspec": {
      "name": "python3",
      "display_name": "Python 3"
    },
    "language_info": {
      "name": "python"
    }
  },
  "cells": [
    {
      "cell_type": "markdown",
      "metadata": {
        "id": "view-in-github",
        "colab_type": "text"
      },
      "source": [
        "<a href=\"https://colab.research.google.com/github/EAsencios/DEEP-LEARING/blob/master/data_wrangling.ipynb\" target=\"_parent\"><img src=\"https://colab.research.google.com/assets/colab-badge.svg\" alt=\"Open In Colab\"/></a>"
      ]
    },
    {
      "cell_type": "markdown",
      "source": [
        "## **Data Wrangling**"
      ],
      "metadata": {
        "id": "hpD-gbwD3eS3"
      }
    },
    {
      "cell_type": "code",
      "source": [
        "import random\n",
        "import numpy as np\n",
        "import pandas as pd\n",
        "\n",
        "import datetime\n",
        "from random import randrange"
      ],
      "metadata": {
        "id": "-yx7DtdX3pXf"
      },
      "execution_count": 37,
      "outputs": []
    },
    {
      "cell_type": "code",
      "source": [
        "from time import strftime\n",
        "startDate = datetime.datetime(2020, 1, 1,8)\n",
        "\n",
        "\n",
        "def _random_date(start,date_count):\n",
        "    \"\"\"This function generates a random date based on params\n",
        "    Args:\n",
        "        start (date object): the base date\n",
        "        date_count (int): number of dates to be generated\n",
        "    Returns:\n",
        "        list of random dates\n",
        "\n",
        "    \"\"\"\n",
        "    current = start\n",
        "    while date_count > 0:\n",
        "        curr = current + datetime.timedelta(days=randrange(42))\n",
        "        yield curr\n",
        "        date_count-=1\n",
        "\n",
        "\n",
        "def generate_sample_data(row_count=100):\n",
        "    \"\"\"This function generates a random transaction dataset\n",
        "    Args:\n",
        "        row_count (int): number of rows for the dataframe\n",
        "    Returns:\n",
        "        a pandas dataframe\n",
        "\n",
        "    \"\"\"\n",
        "\n",
        "    # sentinels\n",
        "    startDate = datetime.datetime(2020, 1, 1, 8)\n",
        "    serial_number_sentinel = 1000\n",
        "    user_id_sentinel = 5001\n",
        "    product_id_sentinel = 101\n",
        "    price_sentinel = 2000\n",
        "\n",
        "    data_dict = {\n",
        "    'Serial No': np.arange(row_count)+serial_number_sentinel,\n",
        "    'Date': np.random.permutation(pd.to_datetime([x.strftime('%d-%m-%Y') for x in _random_date(startDate,row_count)]).date),\n",
        "    'User ID': np.random.permutation(np.random.randint(0, row_count, size=int(row_count/10)) + user_id_sentinel).tolist()*10,\n",
        "    'Product ID': np.random.permutation(np.random.randint(0, row_count, size=int(row_count/10))+ product_id_sentinel).tolist()*10 ,\n",
        "    'Quantity Purchased': np.random.permutation(np.random.randint(1, 42, size=row_count)),\n",
        "    'Price': np.round(np.abs(np.random.randn(row_count)+1)*price_sentinel, decimals=2),\n",
        "    'User Type':np.random.permutation([chr(random.randrange(97, 97 + 3 + 1)) for i in range(row_count)])\n",
        "    }\n",
        "\n",
        "    \n",
        "    # introduce missing values\n",
        "    for index in range(int(np.sqrt(row_count))): \n",
        "        data_dict['Price'][np.argmax(data_dict['Price'] == random.choice(data_dict['Price']))] = np.nan\n",
        "        data_dict['User Type'][np.argmax(data_dict['User Type'] == random.choice(data_dict['User Type']))] = np.nan\n",
        "        data_dict['Date'][np.argmax(data_dict['Date'] == random.choice(data_dict['Date']))] = np.nan\n",
        "        data_dict['Product ID'][np.argmax(data_dict['Product ID'] == random.choice(data_dict['Product ID']))] = 0\n",
        "        data_dict['Serial No'][np.argmax(data_dict['Serial No'] == random.choice(data_dict['Serial No']))] = -1\n",
        "        data_dict['User ID'][np.argmax(data_dict['User ID'] == random.choice(data_dict['User ID']))] = -101\n",
        "        \n",
        "\n",
        "    df = pd.DataFrame(data_dict)\n",
        "\n",
        "    return(df)\n",
        "\n",
        "\n",
        "def describe_dataframe(df=pd.DataFrame()):\n",
        "    \"\"\"This function generates descriptive stats of a dataframe\n",
        "    Args:\n",
        "        df (dataframe): the dataframe to be analyzed\n",
        "    Returns:\n",
        "        None\n",
        "\n",
        "    \"\"\"\n",
        "    print(\"\\n\\n\")\n",
        "    print(\"*\"*30)\n",
        "    print(\"About the Data\")\n",
        "    print(\"*\"*30)\n",
        "\n",
        "    print(\"Number of rows::\",df.shape[0])\n",
        "    print(\"Number of columns::\",df.shape[1])\n",
        "    print(\"\\n\")\n",
        "    \n",
        "    print(\"Column Names::\",df.columns.values.tolist())\n",
        "    print(\"\\n\")\n",
        "    \n",
        "    print(\"Column Data Types::\\n\",df.dtypes)\n",
        "    print(\"\\n\")\n",
        "        \n",
        "    print(\"Columns with Missing Values::\",df.columns[df.isnull().any()].tolist())\n",
        "    print(\"\\n\")\n",
        "       \n",
        "    print(\"Number of rows with Missing Values::\",len(pd.isnull(df).any(1).to_numpy().nonzero()[0].tolist()))\n",
        "    print(\"\\n\")\n",
        "\n",
        "    \n",
        "    print(\"Sample Indices with missing data::\",pd.isnull(df).any(1).to_numpy().nonzero()[0].tolist()[0:5])\n",
        "    print(\"\\n\")\n",
        "    \n",
        "    print(\"General Stats::\")\n",
        "    print(df.info())\n",
        "    print(\"\\n\")\n",
        "\n",
        "    \n",
        "    print(\"Summary Stats::\")\n",
        "    print(df.describe())\n",
        "    print(\"\\n\")\n",
        "    \n",
        "    print(\"Dataframe Sample Rows::\")\n",
        "    display(df.head(5))\n",
        "    \n",
        "    return\n",
        "\n",
        "\n",
        "def cleanup_column_names(df,rename_dict={},do_inplace=True):\n",
        "    \"\"\"This function renames columns of a pandas dataframe\n",
        "       It converts column names to snake case if rename_dict is not passed. \n",
        "    Args:\n",
        "        rename_dict (dict): keys represent old column names and values point to \n",
        "                            newer ones\n",
        "        do_inplace (bool): flag to update existing dataframe or return a new one\n",
        "    Returns:\n",
        "        pandas dataframe if do_inplace is set to False, None otherwise\n",
        "\n",
        "    \"\"\"\n",
        "    if not rename_dict:\n",
        "        return df.rename(columns={col: col.lower().replace(' ','_') \n",
        "                    for col in df.columns.values.tolist()}, \n",
        "                  inplace=do_inplace)\n",
        "    else:\n",
        "        return df.rename(columns=rename_dict,inplace=do_inplace)\n",
        "\n",
        "def expand_user_type(u_type):\n",
        "    \"\"\"This function maps user types to user classes\n",
        "    Args:\n",
        "        u_type (str): user type value\n",
        "    Returns:\n",
        "        (str) user_class value\n",
        "\n",
        "    \"\"\"\n",
        "    if u_type in ['a','b']:\n",
        "        return 'new'\n",
        "    elif u_type == 'c':\n",
        "        return 'existing'\n",
        "    elif u_type == 'd':\n",
        "        return 'loyal_existing'\n",
        "    else:\n",
        "        return 'error'\n"
      ],
      "metadata": {
        "id": "6fLhxmRW3wSW"
      },
      "execution_count": 88,
      "outputs": []
    },
    {
      "cell_type": "code",
      "source": [
        "df = generate_sample_data(1000)"
      ],
      "metadata": {
        "id": "rBryeozoXqSJ"
      },
      "execution_count": 89,
      "outputs": []
    },
    {
      "cell_type": "code",
      "source": [
        "describe_dataframe(df)"
      ],
      "metadata": {
        "colab": {
          "base_uri": "https://localhost:8080/",
          "height": 1000
        },
        "id": "kYqWKlyugXC4",
        "outputId": "1e32f9c2-8a41-40b5-a0c8-878ff0396245"
      },
      "execution_count": 90,
      "outputs": [
        {
          "output_type": "stream",
          "name": "stdout",
          "text": [
            "\n",
            "\n",
            "\n",
            "******************************\n",
            "About the Data\n",
            "******************************\n",
            "Number of rows:: 1000\n",
            "Number of columns:: 7\n",
            "\n",
            "\n",
            "Column Names:: ['Serial No', 'Date', 'User ID', 'Product ID', 'Quantity Purchased', 'Price', 'User Type']\n",
            "\n",
            "\n",
            "Column Data Types::\n",
            " Serial No               int64\n",
            "Date                   object\n",
            "User ID                 int64\n",
            "Product ID              int64\n",
            "Quantity Purchased      int64\n",
            "Price                 float64\n",
            "User Type              object\n",
            "dtype: object\n",
            "\n",
            "\n",
            "Columns with Missing Values:: ['Date', 'Price']\n",
            "\n",
            "\n",
            "Number of rows with Missing Values:: 61\n",
            "\n",
            "\n",
            "Sample Indices with missing data:: [0, 3, 4, 8, 9]\n",
            "\n",
            "\n",
            "General Stats::\n",
            "<class 'pandas.core.frame.DataFrame'>\n",
            "RangeIndex: 1000 entries, 0 to 999\n",
            "Data columns (total 7 columns):\n",
            " #   Column              Non-Null Count  Dtype  \n",
            "---  ------              --------------  -----  \n",
            " 0   Serial No           1000 non-null   int64  \n",
            " 1   Date                969 non-null    object \n",
            " 2   User ID             1000 non-null   int64  \n",
            " 3   Product ID          1000 non-null   int64  \n",
            " 4   Quantity Purchased  1000 non-null   int64  \n",
            " 5   Price               969 non-null    float64\n",
            " 6   User Type           1000 non-null   object \n",
            "dtypes: float64(1), int64(4), object(2)\n",
            "memory usage: 54.8+ KB\n",
            "None\n",
            "\n",
            "\n",
            "Summary Stats::\n",
            "         Serial No      User ID   Product ID  Quantity Purchased        Price\n",
            "count  1000.000000  1000.000000  1000.000000         1000.000000   969.000000\n",
            "mean   1453.106000  5459.313000   604.551000           20.963000  2341.454118\n",
            "std     385.064623   337.090526   304.291259           12.127519  1597.151901\n",
            "min      -1.000000  -101.000000     0.000000            1.000000     2.730000\n",
            "25%    1227.750000  5226.000000   353.000000           11.000000  1056.190000\n",
            "50%    1483.500000  5451.000000   596.000000           21.000000  2124.210000\n",
            "75%    1740.250000  5709.000000   870.250000           32.000000  3413.210000\n",
            "max    1999.000000  5998.000000  1100.000000           41.000000  8304.640000\n",
            "\n",
            "\n",
            "Dataframe Sample Rows::\n"
          ]
        },
        {
          "output_type": "display_data",
          "data": {
            "text/html": [
              "\n",
              "  <div id=\"df-e1ccecf4-1677-4dd5-9e10-bb3bc89ad78d\">\n",
              "    <div class=\"colab-df-container\">\n",
              "      <div>\n",
              "<style scoped>\n",
              "    .dataframe tbody tr th:only-of-type {\n",
              "        vertical-align: middle;\n",
              "    }\n",
              "\n",
              "    .dataframe tbody tr th {\n",
              "        vertical-align: top;\n",
              "    }\n",
              "\n",
              "    .dataframe thead th {\n",
              "        text-align: right;\n",
              "    }\n",
              "</style>\n",
              "<table border=\"1\" class=\"dataframe\">\n",
              "  <thead>\n",
              "    <tr style=\"text-align: right;\">\n",
              "      <th></th>\n",
              "      <th>Serial No</th>\n",
              "      <th>Date</th>\n",
              "      <th>User ID</th>\n",
              "      <th>Product ID</th>\n",
              "      <th>Quantity Purchased</th>\n",
              "      <th>Price</th>\n",
              "      <th>User Type</th>\n",
              "    </tr>\n",
              "  </thead>\n",
              "  <tbody>\n",
              "    <tr>\n",
              "      <th>0</th>\n",
              "      <td>1000</td>\n",
              "      <td>NaN</td>\n",
              "      <td>-101</td>\n",
              "      <td>0</td>\n",
              "      <td>38</td>\n",
              "      <td>27.09</td>\n",
              "      <td>n</td>\n",
              "    </tr>\n",
              "    <tr>\n",
              "      <th>1</th>\n",
              "      <td>1001</td>\n",
              "      <td>2020-01-16</td>\n",
              "      <td>5298</td>\n",
              "      <td>722</td>\n",
              "      <td>4</td>\n",
              "      <td>1251.88</td>\n",
              "      <td>n</td>\n",
              "    </tr>\n",
              "    <tr>\n",
              "      <th>2</th>\n",
              "      <td>1002</td>\n",
              "      <td>2020-07-01</td>\n",
              "      <td>5746</td>\n",
              "      <td>116</td>\n",
              "      <td>39</td>\n",
              "      <td>7119.68</td>\n",
              "      <td>n</td>\n",
              "    </tr>\n",
              "    <tr>\n",
              "      <th>3</th>\n",
              "      <td>1003</td>\n",
              "      <td>NaN</td>\n",
              "      <td>5961</td>\n",
              "      <td>130</td>\n",
              "      <td>3</td>\n",
              "      <td>1590.26</td>\n",
              "      <td>n</td>\n",
              "    </tr>\n",
              "    <tr>\n",
              "      <th>4</th>\n",
              "      <td>1004</td>\n",
              "      <td>NaN</td>\n",
              "      <td>5963</td>\n",
              "      <td>525</td>\n",
              "      <td>23</td>\n",
              "      <td>1863.21</td>\n",
              "      <td>n</td>\n",
              "    </tr>\n",
              "  </tbody>\n",
              "</table>\n",
              "</div>\n",
              "      <button class=\"colab-df-convert\" onclick=\"convertToInteractive('df-e1ccecf4-1677-4dd5-9e10-bb3bc89ad78d')\"\n",
              "              title=\"Convert this dataframe to an interactive table.\"\n",
              "              style=\"display:none;\">\n",
              "        \n",
              "  <svg xmlns=\"http://www.w3.org/2000/svg\" height=\"24px\"viewBox=\"0 0 24 24\"\n",
              "       width=\"24px\">\n",
              "    <path d=\"M0 0h24v24H0V0z\" fill=\"none\"/>\n",
              "    <path d=\"M18.56 5.44l.94 2.06.94-2.06 2.06-.94-2.06-.94-.94-2.06-.94 2.06-2.06.94zm-11 1L8.5 8.5l.94-2.06 2.06-.94-2.06-.94L8.5 2.5l-.94 2.06-2.06.94zm10 10l.94 2.06.94-2.06 2.06-.94-2.06-.94-.94-2.06-.94 2.06-2.06.94z\"/><path d=\"M17.41 7.96l-1.37-1.37c-.4-.4-.92-.59-1.43-.59-.52 0-1.04.2-1.43.59L10.3 9.45l-7.72 7.72c-.78.78-.78 2.05 0 2.83L4 21.41c.39.39.9.59 1.41.59.51 0 1.02-.2 1.41-.59l7.78-7.78 2.81-2.81c.8-.78.8-2.07 0-2.86zM5.41 20L4 18.59l7.72-7.72 1.47 1.35L5.41 20z\"/>\n",
              "  </svg>\n",
              "      </button>\n",
              "      \n",
              "  <style>\n",
              "    .colab-df-container {\n",
              "      display:flex;\n",
              "      flex-wrap:wrap;\n",
              "      gap: 12px;\n",
              "    }\n",
              "\n",
              "    .colab-df-convert {\n",
              "      background-color: #E8F0FE;\n",
              "      border: none;\n",
              "      border-radius: 50%;\n",
              "      cursor: pointer;\n",
              "      display: none;\n",
              "      fill: #1967D2;\n",
              "      height: 32px;\n",
              "      padding: 0 0 0 0;\n",
              "      width: 32px;\n",
              "    }\n",
              "\n",
              "    .colab-df-convert:hover {\n",
              "      background-color: #E2EBFA;\n",
              "      box-shadow: 0px 1px 2px rgba(60, 64, 67, 0.3), 0px 1px 3px 1px rgba(60, 64, 67, 0.15);\n",
              "      fill: #174EA6;\n",
              "    }\n",
              "\n",
              "    [theme=dark] .colab-df-convert {\n",
              "      background-color: #3B4455;\n",
              "      fill: #D2E3FC;\n",
              "    }\n",
              "\n",
              "    [theme=dark] .colab-df-convert:hover {\n",
              "      background-color: #434B5C;\n",
              "      box-shadow: 0px 1px 3px 1px rgba(0, 0, 0, 0.15);\n",
              "      filter: drop-shadow(0px 1px 2px rgba(0, 0, 0, 0.3));\n",
              "      fill: #FFFFFF;\n",
              "    }\n",
              "  </style>\n",
              "\n",
              "      <script>\n",
              "        const buttonEl =\n",
              "          document.querySelector('#df-e1ccecf4-1677-4dd5-9e10-bb3bc89ad78d button.colab-df-convert');\n",
              "        buttonEl.style.display =\n",
              "          google.colab.kernel.accessAllowed ? 'block' : 'none';\n",
              "\n",
              "        async function convertToInteractive(key) {\n",
              "          const element = document.querySelector('#df-e1ccecf4-1677-4dd5-9e10-bb3bc89ad78d');\n",
              "          const dataTable =\n",
              "            await google.colab.kernel.invokeFunction('convertToInteractive',\n",
              "                                                     [key], {});\n",
              "          if (!dataTable) return;\n",
              "\n",
              "          const docLinkHtml = 'Like what you see? Visit the ' +\n",
              "            '<a target=\"_blank\" href=https://colab.research.google.com/notebooks/data_table.ipynb>data table notebook</a>'\n",
              "            + ' to learn more about interactive tables.';\n",
              "          element.innerHTML = '';\n",
              "          dataTable['output_type'] = 'display_data';\n",
              "          await google.colab.output.renderOutput(dataTable, element);\n",
              "          const docLink = document.createElement('div');\n",
              "          docLink.innerHTML = docLinkHtml;\n",
              "          element.appendChild(docLink);\n",
              "        }\n",
              "      </script>\n",
              "    </div>\n",
              "  </div>\n",
              "  "
            ],
            "text/plain": [
              "   Serial No        Date  User ID  ...  Quantity Purchased    Price  User Type\n",
              "0       1000         NaN     -101  ...                  38    27.09          n\n",
              "1       1001  2020-01-16     5298  ...                   4  1251.88          n\n",
              "2       1002  2020-07-01     5746  ...                  39  7119.68          n\n",
              "3       1003         NaN     5961  ...                   3  1590.26          n\n",
              "4       1004         NaN     5963  ...                  23  1863.21          n\n",
              "\n",
              "[5 rows x 7 columns]"
            ]
          },
          "metadata": {}
        }
      ]
    },
    {
      "cell_type": "code",
      "source": [
        "print('Dataframe columns:\\n{}'.format(df.columns.tolist()))"
      ],
      "metadata": {
        "colab": {
          "base_uri": "https://localhost:8080/"
        },
        "id": "JXL03wLmvh0K",
        "outputId": "5058d3c6-2c06-46ea-8340-aae943961f39"
      },
      "execution_count": 91,
      "outputs": [
        {
          "output_type": "stream",
          "name": "stdout",
          "text": [
            "Dataframe columns:\n",
            "['Serial No', 'Date', 'User ID', 'Product ID', 'Quantity Purchased', 'Price', 'User Type']\n"
          ]
        }
      ]
    },
    {
      "cell_type": "code",
      "source": [
        "cleanup_column_names(df)"
      ],
      "metadata": {
        "id": "O849qnIXwb0H"
      },
      "execution_count": 92,
      "outputs": []
    },
    {
      "cell_type": "code",
      "source": [
        "print('Dataframe columns:\\n{}'.format(df.columns.tolist()))"
      ],
      "metadata": {
        "colab": {
          "base_uri": "https://localhost:8080/"
        },
        "outputId": "01c14a7d-1a9a-4b2d-f71e-ec9c4c6cdfd3",
        "id": "Bk3cy0_rwuwA"
      },
      "execution_count": 93,
      "outputs": [
        {
          "output_type": "stream",
          "name": "stdout",
          "text": [
            "Dataframe columns:\n",
            "['serial_no', 'date', 'user_id', 'product_id', 'quantity_purchased', 'price', 'user_type']\n"
          ]
        }
      ]
    },
    {
      "cell_type": "code",
      "source": [
        "print(\"Using Column Name::\")\n",
        "print(df['quantity_purchased'].values[:10])"
      ],
      "metadata": {
        "colab": {
          "base_uri": "https://localhost:8080/"
        },
        "id": "TZUroTNUx64p",
        "outputId": "a04aee7f-3abf-4654-d1e0-c9bc739818a3"
      },
      "execution_count": 109,
      "outputs": [
        {
          "output_type": "stream",
          "name": "stdout",
          "text": [
            "Using Column Name::\n",
            "[38  4 39  3 23 37  1 36 27 24]\n"
          ]
        }
      ]
    },
    {
      "cell_type": "code",
      "source": [
        "print(\"Using Column Name::\" )\n",
        "print(df.quantity_purchased.values[:10])"
      ],
      "metadata": {
        "colab": {
          "base_uri": "https://localhost:8080/"
        },
        "id": "i7N4tp8x1nsf",
        "outputId": "0032e7fe-c102-4a70-f722-3df3537ad95e"
      },
      "execution_count": 108,
      "outputs": [
        {
          "output_type": "stream",
          "name": "stdout",
          "text": [
            "Using Column Name::\n",
            "[38  4 39  3 23 37  1 36 27 24]\n"
          ]
        }
      ]
    },
    {
      "cell_type": "code",
      "source": [
        "print(\"Using Column Data Type::\" )\n",
        "print(df.select_dtypes(include=['float64']).values[:10])"
      ],
      "metadata": {
        "colab": {
          "base_uri": "https://localhost:8080/"
        },
        "id": "oVH8KPQd5H1d",
        "outputId": "909b7b27-b33f-47de-cd83-61fbf40e43f8"
      },
      "execution_count": 113,
      "outputs": [
        {
          "output_type": "stream",
          "name": "stdout",
          "text": [
            "Using Column Data Type::\n",
            "[[  27.09]\n",
            " [1251.88]\n",
            " [7119.68]\n",
            " [1590.26]\n",
            " [1863.21]\n",
            " [2510.93]\n",
            " [2789.51]\n",
            " [2230.63]\n",
            " [1092.86]\n",
            " [5024.82]]\n"
          ]
        }
      ]
    }
  ]
}