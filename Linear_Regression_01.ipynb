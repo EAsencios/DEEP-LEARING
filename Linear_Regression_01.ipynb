{
  "nbformat": 4,
  "nbformat_minor": 0,
  "metadata": {
    "colab": {
      "name": "Linear_Regression_01.ipynb",
      "provenance": [],
      "authorship_tag": "ABX9TyPAP1EaQmwxA+H5Pqy3t/6K",
      "include_colab_link": true
    },
    "kernelspec": {
      "name": "python3",
      "display_name": "Python 3"
    },
    "language_info": {
      "name": "python"
    }
  },
  "cells": [
    {
      "cell_type": "markdown",
      "metadata": {
        "id": "view-in-github",
        "colab_type": "text"
      },
      "source": [
        "<a href=\"https://colab.research.google.com/github/EAsencios/DEEP-LEARING/blob/master/Linear_Regression_01.ipynb\" target=\"_parent\"><img src=\"https://colab.research.google.com/assets/colab-badge.svg\" alt=\"Open In Colab\"/></a>"
      ]
    },
    {
      "cell_type": "code",
      "execution_count": 8,
      "metadata": {
        "id": "zWbv4QlobqEn"
      },
      "outputs": [],
      "source": [
        "import pandas as pd\n",
        "import tensorflow as tf\n",
        "from matplotlib import pyplot as plt"
      ]
    },
    {
      "cell_type": "code",
      "metadata": {
        "id": "xvO_beKVP1Ke",
        "colab": {
          "base_uri": "https://localhost:8080/"
        },
        "outputId": "39dcb520-7ea8-4a83-b6b8-ddb3e11b3302"
      },
      "source": [
        "#@title Define the functions that build and train a model\n",
        "def build_model(my_learning_rate):\n",
        "  \"\"\"Create and compile a simple linear regression model.\"\"\"\n",
        "  # Most simple tf.keras models are sequential. \n",
        "  # A sequential model contains one or more layers.\n",
        "  model = tf.keras.models.Sequential()\n",
        "\n",
        "  # Describe the topography of the model.\n",
        "  # The topography of a simple linear regression model\n",
        "  # is a single node in a single layer. \n",
        "  model.add(tf.keras.layers.Dense(units=1, \n",
        "                                  input_shape=(1,)))\n",
        "\n",
        "  # Compile the model topography into code that \n",
        "  # TensorFlow can efficiently execute. Configure \n",
        "  # training to minimize the model's mean squared error. \n",
        "  model.compile(optimizer=tf.keras.optimizers.RMSprop(lr=my_learning_rate),\n",
        "                loss=\"mean_squared_error\",\n",
        "                metrics=[tf.keras.metrics.RootMeanSquaredError()])\n",
        "\n",
        "  return model           \n",
        "\n",
        "\n",
        "def train_model(model, feature, label, epochs, batch_size):\n",
        "  \"\"\"Train the model by feeding it data.\"\"\"\n",
        "\n",
        "  # Feed the feature values and the label values to the \n",
        "  # model. The model will train for the specified number \n",
        "  # of epochs, gradually learning how the feature values\n",
        "  # relate to the label values. \n",
        "  history = model.fit(x=feature,\n",
        "                      y=label,\n",
        "                      batch_size=batch_size,\n",
        "                      epochs=epochs)\n",
        "\n",
        "  # Gather the trained model's weight and bias.\n",
        "  trained_weight = model.get_weights()[0]\n",
        "  trained_bias = model.get_weights()[1]\n",
        "\n",
        "  # The list of epochs is stored separately from the \n",
        "  # rest of history.\n",
        "  epochs = history.epoch\n",
        "  \n",
        "  # Gather the history (a snapshot) of each epoch.\n",
        "  hist = pd.DataFrame(history.history)\n",
        "\n",
        "  # Specifically gather the model's root mean \n",
        "  #squared error at each epoch. \n",
        "  rmse = hist[\"root_mean_squared_error\"]\n",
        "\n",
        "  return trained_weight, trained_bias, epochs, rmse\n",
        "\n",
        "print(\"Defined create_model and train_model\")"
      ],
      "execution_count": 9,
      "outputs": [
        {
          "output_type": "stream",
          "name": "stdout",
          "text": [
            "Defined create_model and train_model\n"
          ]
        }
      ]
    },
    {
      "cell_type": "code",
      "metadata": {
        "id": "QF0BFRXTOeR3",
        "colab": {
          "base_uri": "https://localhost:8080/"
        },
        "outputId": "88e4fe8a-40e1-441d-9397-040d539ab468"
      },
      "source": [
        "#@title Define the plotting functions\n",
        "def plot_the_model(trained_weight, trained_bias, feature, label):\n",
        "  \"\"\"Plot the trained model against the training feature and label.\"\"\"\n",
        "\n",
        "  # Label the axes.\n",
        "  plt.xlabel(\"feature\")\n",
        "  plt.ylabel(\"label\")\n",
        "\n",
        "  # Plot the feature values vs. label values.\n",
        "  plt.scatter(feature, label)\n",
        "\n",
        "  # Create a red line representing the model. The red line starts\n",
        "  # at coordinates (x0, y0) and ends at coordinates (x1, y1).\n",
        "  x0 = 0\n",
        "  y0 = trained_bias\n",
        "  x1 = feature[-1]\n",
        "  y1 = trained_bias + (trained_weight * x1)\n",
        "  plt.plot([x0, x1], [y0, y1], c='r')\n",
        "\n",
        "  # Render the scatter plot and the red line.\n",
        "  plt.show()\n",
        "\n",
        "def plot_the_loss_curve(epochs, rmse):\n",
        "  \"\"\"Plot the loss curve, which shows loss vs. epoch.\"\"\"\n",
        "\n",
        "  plt.figure()\n",
        "  plt.xlabel(\"Epoch\")\n",
        "  plt.ylabel(\"Root Mean Squared Error\")\n",
        "\n",
        "  plt.plot(epochs, rmse, label=\"Loss\")\n",
        "  plt.legend()\n",
        "  plt.ylim([rmse.min()*0.97, rmse.max()])\n",
        "  plt.show()\n",
        "\n",
        "print(\"Defined the plot_the_model and plot_the_loss_curve functions.\")"
      ],
      "execution_count": 11,
      "outputs": [
        {
          "output_type": "stream",
          "name": "stdout",
          "text": [
            "Defined the plot_the_model and plot_the_loss_curve functions.\n"
          ]
        }
      ]
    },
    {
      "cell_type": "code",
      "source": [
        "my_feature = ([1.0, 2.0, 3.0, 4.0, 5.0, 6.0, 7.0, 8.0, 9.0, 10.0, 11.0, 12.0])\n",
        "\n",
        "my_label   = ([5.0, 8.8,  9.6, 14.2, 18.8, 19.5, 21.4, 26.8, 28.9, 32.0, 33.8, 38.2])"
      ],
      "metadata": {
        "id": "h9jt6Pxnct8o"
      },
      "execution_count": 4,
      "outputs": []
    },
    {
      "cell_type": "code",
      "source": [
        "learning_rate=0.1\n",
        "epochs=100\n",
        "my_batch_size=12\n",
        "\n",
        "my_model = build_model(learning_rate)\n",
        "trained_weight, trained_bias, epochs, rmse = train_model(my_model, my_feature, \n",
        "                                                         my_label, epochs,\n",
        "                                                         my_batch_size)\n",
        "plot_the_model(trained_weight, trained_bias, my_feature, my_label)\n",
        "plot_the_loss_curve(epochs, rmse)"
      ],
      "metadata": {
        "colab": {
          "base_uri": "https://localhost:8080/",
          "height": 1000
        },
        "id": "nxe95PS-haLJ",
        "outputId": "2db2f082-e154-48c9-95b1-fa98740951ea"
      },
      "execution_count": 20,
      "outputs": [
        {
          "output_type": "stream",
          "name": "stderr",
          "text": [
            "/usr/local/lib/python3.7/dist-packages/keras/optimizer_v2/rmsprop.py:130: UserWarning: The `lr` argument is deprecated, use `learning_rate` instead.\n",
            "  super(RMSprop, self).__init__(name, **kwargs)\n"
          ]
        },
        {
          "output_type": "stream",
          "name": "stdout",
          "text": [
            "Epoch 1/100\n",
            "1/1 [==============================] - 0s 312ms/step - loss: 1255.4602 - root_mean_squared_error: 35.4325\n",
            "Epoch 2/100\n",
            "1/1 [==============================] - 0s 5ms/step - loss: 1077.3942 - root_mean_squared_error: 32.8237\n",
            "Epoch 3/100\n",
            "1/1 [==============================] - 0s 8ms/step - loss: 961.0862 - root_mean_squared_error: 31.0014\n",
            "Epoch 4/100\n",
            "1/1 [==============================] - 0s 9ms/step - loss: 870.9724 - root_mean_squared_error: 29.5122\n",
            "Epoch 5/100\n",
            "1/1 [==============================] - 0s 6ms/step - loss: 796.1362 - root_mean_squared_error: 28.2159\n",
            "Epoch 6/100\n",
            "1/1 [==============================] - 0s 6ms/step - loss: 731.5950 - root_mean_squared_error: 27.0480\n",
            "Epoch 7/100\n",
            "1/1 [==============================] - 0s 5ms/step - loss: 674.6013 - root_mean_squared_error: 25.9731\n",
            "Epoch 8/100\n",
            "1/1 [==============================] - 0s 5ms/step - loss: 623.4594 - root_mean_squared_error: 24.9692\n",
            "Epoch 9/100\n",
            "1/1 [==============================] - 0s 7ms/step - loss: 577.0394 - root_mean_squared_error: 24.0216\n",
            "Epoch 10/100\n",
            "1/1 [==============================] - 0s 6ms/step - loss: 534.5469 - root_mean_squared_error: 23.1203\n",
            "Epoch 11/100\n",
            "1/1 [==============================] - 0s 5ms/step - loss: 495.3995 - root_mean_squared_error: 22.2576\n",
            "Epoch 12/100\n",
            "1/1 [==============================] - 0s 6ms/step - loss: 459.1560 - root_mean_squared_error: 21.4279\n",
            "Epoch 13/100\n",
            "1/1 [==============================] - 0s 9ms/step - loss: 425.4735 - root_mean_squared_error: 20.6270\n",
            "Epoch 14/100\n",
            "1/1 [==============================] - 0s 5ms/step - loss: 394.0794 - root_mean_squared_error: 19.8514\n",
            "Epoch 15/100\n",
            "1/1 [==============================] - 0s 7ms/step - loss: 364.7529 - root_mean_squared_error: 19.0985\n",
            "Epoch 16/100\n",
            "1/1 [==============================] - 0s 5ms/step - loss: 337.3122 - root_mean_squared_error: 18.3661\n",
            "Epoch 17/100\n",
            "1/1 [==============================] - 0s 12ms/step - loss: 311.6056 - root_mean_squared_error: 17.6524\n",
            "Epoch 18/100\n",
            "1/1 [==============================] - 0s 10ms/step - loss: 287.5045 - root_mean_squared_error: 16.9560\n",
            "Epoch 19/100\n",
            "1/1 [==============================] - 0s 13ms/step - loss: 264.8991 - root_mean_squared_error: 16.2757\n",
            "Epoch 20/100\n",
            "1/1 [==============================] - 0s 6ms/step - loss: 243.6940 - root_mean_squared_error: 15.6107\n",
            "Epoch 21/100\n",
            "1/1 [==============================] - 0s 6ms/step - loss: 223.8056 - root_mean_squared_error: 14.9601\n",
            "Epoch 22/100\n",
            "1/1 [==============================] - 0s 7ms/step - loss: 205.1602 - root_mean_squared_error: 14.3234\n",
            "Epoch 23/100\n",
            "1/1 [==============================] - 0s 7ms/step - loss: 187.6918 - root_mean_squared_error: 13.7001\n",
            "Epoch 24/100\n",
            "1/1 [==============================] - 0s 6ms/step - loss: 171.3407 - root_mean_squared_error: 13.0897\n",
            "Epoch 25/100\n",
            "1/1 [==============================] - 0s 6ms/step - loss: 156.0527 - root_mean_squared_error: 12.4921\n",
            "Epoch 26/100\n",
            "1/1 [==============================] - 0s 6ms/step - loss: 141.7778 - root_mean_squared_error: 11.9071\n",
            "Epoch 27/100\n",
            "1/1 [==============================] - 0s 6ms/step - loss: 128.4697 - root_mean_squared_error: 11.3344\n",
            "Epoch 28/100\n",
            "1/1 [==============================] - 0s 7ms/step - loss: 116.0849 - root_mean_squared_error: 10.7743\n",
            "Epoch 29/100\n",
            "1/1 [==============================] - 0s 6ms/step - loss: 104.5825 - root_mean_squared_error: 10.2266\n",
            "Epoch 30/100\n",
            "1/1 [==============================] - 0s 6ms/step - loss: 93.9232 - root_mean_squared_error: 9.6914\n",
            "Epoch 31/100\n",
            "1/1 [==============================] - 0s 6ms/step - loss: 84.0695 - root_mean_squared_error: 9.1689\n",
            "Epoch 32/100\n",
            "1/1 [==============================] - 0s 6ms/step - loss: 74.9854 - root_mean_squared_error: 8.6594\n",
            "Epoch 33/100\n",
            "1/1 [==============================] - 0s 9ms/step - loss: 66.6353 - root_mean_squared_error: 8.1630\n",
            "Epoch 34/100\n",
            "1/1 [==============================] - 0s 7ms/step - loss: 58.9849 - root_mean_squared_error: 7.6802\n",
            "Epoch 35/100\n",
            "1/1 [==============================] - 0s 6ms/step - loss: 52.0001 - root_mean_squared_error: 7.2111\n",
            "Epoch 36/100\n",
            "1/1 [==============================] - 0s 6ms/step - loss: 45.6474 - root_mean_squared_error: 6.7563\n",
            "Epoch 37/100\n",
            "1/1 [==============================] - 0s 8ms/step - loss: 39.8937 - root_mean_squared_error: 6.3161\n",
            "Epoch 38/100\n",
            "1/1 [==============================] - 0s 5ms/step - loss: 34.7058 - root_mean_squared_error: 5.8912\n",
            "Epoch 39/100\n",
            "1/1 [==============================] - 0s 8ms/step - loss: 30.0510 - root_mean_squared_error: 5.4819\n",
            "Epoch 40/100\n",
            "1/1 [==============================] - 0s 9ms/step - loss: 25.8964 - root_mean_squared_error: 5.0888\n",
            "Epoch 41/100\n",
            "1/1 [==============================] - 0s 5ms/step - loss: 22.2094 - root_mean_squared_error: 4.7127\n",
            "Epoch 42/100\n",
            "1/1 [==============================] - 0s 6ms/step - loss: 18.9577 - root_mean_squared_error: 4.3540\n",
            "Epoch 43/100\n",
            "1/1 [==============================] - 0s 5ms/step - loss: 16.1088 - root_mean_squared_error: 4.0136\n",
            "Epoch 44/100\n",
            "1/1 [==============================] - 0s 5ms/step - loss: 13.6309 - root_mean_squared_error: 3.6920\n",
            "Epoch 45/100\n",
            "1/1 [==============================] - 0s 5ms/step - loss: 11.4924 - root_mean_squared_error: 3.3901\n",
            "Epoch 46/100\n",
            "1/1 [==============================] - 0s 5ms/step - loss: 9.6623 - root_mean_squared_error: 3.1084\n",
            "Epoch 47/100\n",
            "1/1 [==============================] - 0s 6ms/step - loss: 8.1102 - root_mean_squared_error: 2.8478\n",
            "Epoch 48/100\n",
            "1/1 [==============================] - 0s 6ms/step - loss: 6.8066 - root_mean_squared_error: 2.6089\n",
            "Epoch 49/100\n",
            "1/1 [==============================] - 0s 6ms/step - loss: 5.7231 - root_mean_squared_error: 2.3923\n",
            "Epoch 50/100\n",
            "1/1 [==============================] - 0s 6ms/step - loss: 4.8327 - root_mean_squared_error: 2.1983\n",
            "Epoch 51/100\n",
            "1/1 [==============================] - 0s 5ms/step - loss: 4.1096 - root_mean_squared_error: 2.0272\n",
            "Epoch 52/100\n",
            "1/1 [==============================] - 0s 5ms/step - loss: 3.5299 - root_mean_squared_error: 1.8788\n",
            "Epoch 53/100\n",
            "1/1 [==============================] - 0s 8ms/step - loss: 3.0712 - root_mean_squared_error: 1.7525\n",
            "Epoch 54/100\n",
            "1/1 [==============================] - 0s 5ms/step - loss: 2.7135 - root_mean_squared_error: 1.6473\n",
            "Epoch 55/100\n",
            "1/1 [==============================] - 0s 6ms/step - loss: 2.4385 - root_mean_squared_error: 1.5616\n",
            "Epoch 56/100\n",
            "1/1 [==============================] - 0s 9ms/step - loss: 2.2301 - root_mean_squared_error: 1.4934\n",
            "Epoch 57/100\n",
            "1/1 [==============================] - 0s 6ms/step - loss: 2.0745 - root_mean_squared_error: 1.4403\n",
            "Epoch 58/100\n",
            "1/1 [==============================] - 0s 6ms/step - loss: 1.9598 - root_mean_squared_error: 1.3999\n",
            "Epoch 59/100\n",
            "1/1 [==============================] - 0s 7ms/step - loss: 1.8761 - root_mean_squared_error: 1.3697\n",
            "Epoch 60/100\n",
            "1/1 [==============================] - 0s 5ms/step - loss: 1.8153 - root_mean_squared_error: 1.3473\n",
            "Epoch 61/100\n",
            "1/1 [==============================] - 0s 6ms/step - loss: 1.7710 - root_mean_squared_error: 1.3308\n",
            "Epoch 62/100\n",
            "1/1 [==============================] - 0s 8ms/step - loss: 1.7383 - root_mean_squared_error: 1.3184\n",
            "Epoch 63/100\n",
            "1/1 [==============================] - 0s 6ms/step - loss: 1.7134 - root_mean_squared_error: 1.3090\n",
            "Epoch 64/100\n",
            "1/1 [==============================] - 0s 7ms/step - loss: 1.6936 - root_mean_squared_error: 1.3014\n",
            "Epoch 65/100\n",
            "1/1 [==============================] - 0s 6ms/step - loss: 1.6768 - root_mean_squared_error: 1.2949\n",
            "Epoch 66/100\n",
            "1/1 [==============================] - 0s 6ms/step - loss: 1.6619 - root_mean_squared_error: 1.2891\n",
            "Epoch 67/100\n",
            "1/1 [==============================] - 0s 5ms/step - loss: 1.6478 - root_mean_squared_error: 1.2837\n",
            "Epoch 68/100\n",
            "1/1 [==============================] - 0s 5ms/step - loss: 1.6341 - root_mean_squared_error: 1.2783\n",
            "Epoch 69/100\n",
            "1/1 [==============================] - 0s 5ms/step - loss: 1.6203 - root_mean_squared_error: 1.2729\n",
            "Epoch 70/100\n",
            "1/1 [==============================] - 0s 6ms/step - loss: 1.6063 - root_mean_squared_error: 1.2674\n",
            "Epoch 71/100\n",
            "1/1 [==============================] - 0s 6ms/step - loss: 1.5919 - root_mean_squared_error: 1.2617\n",
            "Epoch 72/100\n",
            "1/1 [==============================] - 0s 5ms/step - loss: 1.5772 - root_mean_squared_error: 1.2559\n",
            "Epoch 73/100\n",
            "1/1 [==============================] - 0s 9ms/step - loss: 1.5620 - root_mean_squared_error: 1.2498\n",
            "Epoch 74/100\n",
            "1/1 [==============================] - 0s 6ms/step - loss: 1.5464 - root_mean_squared_error: 1.2436\n",
            "Epoch 75/100\n",
            "1/1 [==============================] - 0s 5ms/step - loss: 1.5304 - root_mean_squared_error: 1.2371\n",
            "Epoch 76/100\n",
            "1/1 [==============================] - 0s 5ms/step - loss: 1.5140 - root_mean_squared_error: 1.2304\n",
            "Epoch 77/100\n",
            "1/1 [==============================] - 0s 5ms/step - loss: 1.4971 - root_mean_squared_error: 1.2236\n",
            "Epoch 78/100\n",
            "1/1 [==============================] - 0s 6ms/step - loss: 1.4799 - root_mean_squared_error: 1.2165\n",
            "Epoch 79/100\n",
            "1/1 [==============================] - 0s 5ms/step - loss: 1.4622 - root_mean_squared_error: 1.2092\n",
            "Epoch 80/100\n",
            "1/1 [==============================] - 0s 6ms/step - loss: 1.4442 - root_mean_squared_error: 1.2018\n",
            "Epoch 81/100\n",
            "1/1 [==============================] - 0s 6ms/step - loss: 1.4259 - root_mean_squared_error: 1.1941\n",
            "Epoch 82/100\n",
            "1/1 [==============================] - 0s 6ms/step - loss: 1.4073 - root_mean_squared_error: 1.1863\n",
            "Epoch 83/100\n",
            "1/1 [==============================] - 0s 8ms/step - loss: 1.3884 - root_mean_squared_error: 1.1783\n",
            "Epoch 84/100\n",
            "1/1 [==============================] - 0s 7ms/step - loss: 1.3693 - root_mean_squared_error: 1.1702\n",
            "Epoch 85/100\n",
            "1/1 [==============================] - 0s 5ms/step - loss: 1.3500 - root_mean_squared_error: 1.1619\n",
            "Epoch 86/100\n",
            "1/1 [==============================] - 0s 8ms/step - loss: 1.3305 - root_mean_squared_error: 1.1535\n",
            "Epoch 87/100\n",
            "1/1 [==============================] - 0s 7ms/step - loss: 1.3109 - root_mean_squared_error: 1.1450\n",
            "Epoch 88/100\n",
            "1/1 [==============================] - 0s 5ms/step - loss: 1.2913 - root_mean_squared_error: 1.1363\n",
            "Epoch 89/100\n",
            "1/1 [==============================] - 0s 6ms/step - loss: 1.2716 - root_mean_squared_error: 1.1276\n",
            "Epoch 90/100\n",
            "1/1 [==============================] - 0s 6ms/step - loss: 1.2519 - root_mean_squared_error: 1.1189\n",
            "Epoch 91/100\n",
            "1/1 [==============================] - 0s 6ms/step - loss: 1.2323 - root_mean_squared_error: 1.1101\n",
            "Epoch 92/100\n",
            "1/1 [==============================] - 0s 10ms/step - loss: 1.2129 - root_mean_squared_error: 1.1013\n",
            "Epoch 93/100\n",
            "1/1 [==============================] - 0s 6ms/step - loss: 1.1936 - root_mean_squared_error: 1.0925\n",
            "Epoch 94/100\n",
            "1/1 [==============================] - 0s 6ms/step - loss: 1.1746 - root_mean_squared_error: 1.0838\n",
            "Epoch 95/100\n",
            "1/1 [==============================] - 0s 6ms/step - loss: 1.1559 - root_mean_squared_error: 1.0751\n",
            "Epoch 96/100\n",
            "1/1 [==============================] - 0s 7ms/step - loss: 1.1375 - root_mean_squared_error: 1.0666\n",
            "Epoch 97/100\n",
            "1/1 [==============================] - 0s 6ms/step - loss: 1.1196 - root_mean_squared_error: 1.0581\n",
            "Epoch 98/100\n",
            "1/1 [==============================] - 0s 6ms/step - loss: 1.1021 - root_mean_squared_error: 1.0498\n",
            "Epoch 99/100\n",
            "1/1 [==============================] - 0s 7ms/step - loss: 1.0851 - root_mean_squared_error: 1.0417\n",
            "Epoch 100/100\n",
            "1/1 [==============================] - 0s 6ms/step - loss: 1.0686 - root_mean_squared_error: 1.0337\n"
          ]
        },
        {
          "output_type": "stream",
          "name": "stderr",
          "text": [
            "/usr/local/lib/python3.7/dist-packages/numpy/core/_asarray.py:136: VisibleDeprecationWarning: Creating an ndarray from ragged nested sequences (which is a list-or-tuple of lists-or-tuples-or ndarrays with different lengths or shapes) is deprecated. If you meant to do this, you must specify 'dtype=object' when creating the ndarray\n",
            "  return array(a, dtype, copy=False, order=order, subok=True)\n"
          ]
        },
        {
          "output_type": "display_data",
          "data": {
            "image/png": "[encoded data removed]",
            "text/plain": [
              "<Figure size 432x288 with 1 Axes>"
            ]
          },
          "metadata": {
            "needs_background": "light"
          }
        },
        {
          "output_type": "display_data",
          "data": {
            "image/png": "[encoded data removed]",
            "text/plain": [
              "<Figure size 432x288 with 1 Axes>"
            ]
          },
          "metadata": {
            "needs_background": "light"
          }
        }
      ]
    }
  ]
}