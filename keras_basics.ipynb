{
  "nbformat": 4,
  "nbformat_minor": 0,
  "metadata": {
    "colab": {
      "name": "keras_basics.ipynb",
      "provenance": [],
      "collapsed_sections": [],
      "authorship_tag": "ABX9TyOo6jU/s8x6wdGCerc7joeD",
      "include_colab_link": true
    },
    "kernelspec": {
      "name": "python3",
      "display_name": "Python 3"
    },
    "language_info": {
      "name": "python"
    }
  },
  "cells": [
    {
      "cell_type": "markdown",
      "metadata": {
        "id": "view-in-github",
        "colab_type": "text"
      },
      "source": [
        "<a href=\"https://colab.research.google.com/github/EAsencios/DEEP-LEARING/blob/master/keras_basics.ipynb\" target=\"_parent\"><img src=\"https://colab.research.google.com/assets/colab-badge.svg\" alt=\"Open In Colab\"/></a>"
      ]
    },
    {
      "cell_type": "code",
      "execution_count": 22,
      "metadata": {
        "id": "KcOVPmXThYhd"
      },
      "outputs": [],
      "source": [
        "import numpy as np\n",
        "from sklearn.datasets import load_breast_cancer\n",
        "from keras.models import Sequential\n",
        "from keras.layers import Dense, Dropout\n",
        "from sklearn import metrics\n",
        "from sklearn.naive_bayes import GaussianNB\n",
        "\n",
        "from yellowbrick.classifier import ClassificationReport\n",
        "from yellowbrick.datasets import load_occupancy\n"
      ]
    },
    {
      "cell_type": "code",
      "source": [
        "cancer = load_breast_cancer()\n",
        "X_train = cancer.data[:460]\n",
        "y_train = cancer.target[:460]\n",
        "\n",
        "X_test = cancer.data[460:]\n",
        "y_test = cancer.target[460:]"
      ],
      "metadata": {
        "id": "PpAgJrBYiQhZ"
      },
      "execution_count": 23,
      "outputs": []
    },
    {
      "cell_type": "code",
      "source": [
        "model = Sequential()\n",
        "model.add(Dense(15, input_dim=30, activation='relu'))\n",
        "model.add(Dense(1, activation='sigmoid'))"
      ],
      "metadata": {
        "id": "bPD6-VKMmtuF"
      },
      "execution_count": 24,
      "outputs": []
    },
    {
      "cell_type": "code",
      "source": [
        "model.compile(loss='binary_crossentropy', optimizer='rmsprop', metrics=['accuracy'])\n",
        "model.fit(X_train, y_train, epochs=20, batch_size=50)"
      ],
      "metadata": {
        "colab": {
          "base_uri": "https://localhost:8080/"
        },
        "id": "vOvjQiAVpu8l",
        "outputId": "f4ded7b7-44cf-4f53-8ce5-ee9f9176174c"
      },
      "execution_count": 25,
      "outputs": [
        {
          "output_type": "stream",
          "name": "stdout",
          "text": [
            "Epoch 1/20\n",
            "10/10 [==============================] - 1s 2ms/step - loss: 28.9748 - accuracy: 0.4043\n",
            "Epoch 2/20\n",
            "10/10 [==============================] - 0s 2ms/step - loss: 2.1101 - accuracy: 0.7065\n",
            "Epoch 3/20\n",
            "10/10 [==============================] - 0s 2ms/step - loss: 0.6025 - accuracy: 0.8478\n",
            "Epoch 4/20\n",
            "10/10 [==============================] - 0s 2ms/step - loss: 0.5725 - accuracy: 0.8609\n",
            "Epoch 5/20\n",
            "10/10 [==============================] - 0s 3ms/step - loss: 0.5691 - accuracy: 0.8609\n",
            "Epoch 6/20\n",
            "10/10 [==============================] - 0s 2ms/step - loss: 0.6038 - accuracy: 0.8587\n",
            "Epoch 7/20\n",
            "10/10 [==============================] - 0s 2ms/step - loss: 0.6370 - accuracy: 0.8413\n",
            "Epoch 8/20\n",
            "10/10 [==============================] - 0s 2ms/step - loss: 0.4864 - accuracy: 0.8848\n",
            "Epoch 9/20\n",
            "10/10 [==============================] - 0s 2ms/step - loss: 0.6502 - accuracy: 0.8609\n",
            "Epoch 10/20\n",
            "10/10 [==============================] - 0s 2ms/step - loss: 0.5569 - accuracy: 0.8609\n",
            "Epoch 11/20\n",
            "10/10 [==============================] - 0s 3ms/step - loss: 0.4470 - accuracy: 0.8804\n",
            "Epoch 12/20\n",
            "10/10 [==============================] - 0s 2ms/step - loss: 0.4569 - accuracy: 0.8739\n",
            "Epoch 13/20\n",
            "10/10 [==============================] - 0s 3ms/step - loss: 0.5788 - accuracy: 0.8609\n",
            "Epoch 14/20\n",
            "10/10 [==============================] - 0s 2ms/step - loss: 0.5119 - accuracy: 0.8717\n",
            "Epoch 15/20\n",
            "10/10 [==============================] - 0s 2ms/step - loss: 0.4295 - accuracy: 0.8848\n",
            "Epoch 16/20\n",
            "10/10 [==============================] - 0s 2ms/step - loss: 0.4879 - accuracy: 0.8609\n",
            "Epoch 17/20\n",
            "10/10 [==============================] - 0s 2ms/step - loss: 0.4758 - accuracy: 0.8674\n",
            "Epoch 18/20\n",
            "10/10 [==============================] - 0s 2ms/step - loss: 0.5677 - accuracy: 0.8522\n",
            "Epoch 19/20\n",
            "10/10 [==============================] - 0s 2ms/step - loss: 0.4645 - accuracy: 0.8891\n",
            "Epoch 20/20\n",
            "10/10 [==============================] - 0s 2ms/step - loss: 0.3699 - accuracy: 0.8978\n"
          ]
        },
        {
          "output_type": "execute_result",
          "data": {
            "text/plain": [
              "<keras.callbacks.History at 0x7f3a88061e90>"
            ]
          },
          "metadata": {},
          "execution_count": 25
        }
      ]
    },
    {
      "cell_type": "code",
      "source": [
        "predictions = model.predict(X_test)\n",
        "predictions = (predictions > 0.5).astype('int32')\n"
      ],
      "metadata": {
        "id": "87TyTpT0LQb4"
      },
      "execution_count": 26,
      "outputs": []
    },
    {
      "cell_type": "code",
      "source": [
        "print('Accuracy:', metrics.accuracy_score(y_test, predictions))\n",
        "print(metrics.classification_report(y_test, predictions))"
      ],
      "metadata": {
        "colab": {
          "base_uri": "https://localhost:8080/"
        },
        "id": "oo88zxqdasUj",
        "outputId": "45f08fd3-29be-42dc-8edc-ff3cc2a4b19c"
      },
      "execution_count": 27,
      "outputs": [
        {
          "output_type": "stream",
          "name": "stdout",
          "text": [
            "Accuracy: 0.7798165137614679\n",
            "              precision    recall  f1-score   support\n",
            "\n",
            "           0       0.52      0.92      0.67        26\n",
            "           1       0.97      0.73      0.84        83\n",
            "\n",
            "    accuracy                           0.78       109\n",
            "   macro avg       0.74      0.83      0.75       109\n",
            "weighted avg       0.86      0.78      0.80       109\n",
            "\n"
          ]
        }
      ]
    },
    {
      "cell_type": "code",
      "source": [
        "confusion = metrics.confusion_matrix(y_test, predictions)\n",
        "print(confusion)"
      ],
      "metadata": {
        "colab": {
          "base_uri": "https://localhost:8080/"
        },
        "id": "-wfmdvPUfbfL",
        "outputId": "ab1a2424-5cca-420f-ba59-b57cb26089ce"
      },
      "execution_count": 28,
      "outputs": [
        {
          "output_type": "stream",
          "name": "stdout",
          "text": [
            "[[24  2]\n",
            " [22 61]]\n"
          ]
        }
      ]
    },
    {
      "cell_type": "markdown",
      "source": [
        "## **Te Power of Deep Learning**"
      ],
      "metadata": {
        "id": "VAQzwKHCahhD"
      }
    },
    {
      "cell_type": "code",
      "source": [
        "model = Sequential()\n",
        "model.add(Dense(15, input_dim=30, activation='relu'))\n",
        "model.add(Dense(15, activation='relu'))\n",
        "model.add(Dense(15, activation='relu'))\n",
        "model.add(Dense(1, activation='sigmoid'))"
      ],
      "metadata": {
        "id": "BGsa-M45aurj"
      },
      "execution_count": 29,
      "outputs": []
    },
    {
      "cell_type": "code",
      "source": [
        "model.compile(loss='binary_crossentropy', optimizer='rmsprop', metrics=['accuracy'])\n",
        "model.fit(X_train, y_train, epochs=20, batch_size=50)"
      ],
      "metadata": {
        "id": "LWS5RvRicku8",
        "outputId": "f8552851-ca24-487b-ff49-e25124bda256",
        "colab": {
          "base_uri": "https://localhost:8080/"
        }
      },
      "execution_count": 30,
      "outputs": [
        {
          "output_type": "stream",
          "name": "stdout",
          "text": [
            "Epoch 1/20\n",
            "10/10 [==============================] - 1s 2ms/step - loss: 4.8192 - accuracy: 0.5283\n",
            "Epoch 2/20\n",
            "10/10 [==============================] - 0s 2ms/step - loss: 0.8487 - accuracy: 0.7500\n",
            "Epoch 3/20\n",
            "10/10 [==============================] - 0s 2ms/step - loss: 0.4485 - accuracy: 0.8043\n",
            "Epoch 4/20\n",
            "10/10 [==============================] - 0s 2ms/step - loss: 0.7655 - accuracy: 0.7630\n",
            "Epoch 5/20\n",
            "10/10 [==============================] - 0s 2ms/step - loss: 0.5403 - accuracy: 0.7913\n",
            "Epoch 6/20\n",
            "10/10 [==============================] - 0s 2ms/step - loss: 0.4822 - accuracy: 0.8043\n",
            "Epoch 7/20\n",
            "10/10 [==============================] - 0s 2ms/step - loss: 0.5897 - accuracy: 0.7826\n",
            "Epoch 8/20\n",
            "10/10 [==============================] - 0s 2ms/step - loss: 0.7382 - accuracy: 0.7587\n",
            "Epoch 9/20\n",
            "10/10 [==============================] - 0s 2ms/step - loss: 0.2418 - accuracy: 0.9087\n",
            "Epoch 10/20\n",
            "10/10 [==============================] - 0s 2ms/step - loss: 0.6677 - accuracy: 0.7913\n",
            "Epoch 11/20\n",
            "10/10 [==============================] - 0s 2ms/step - loss: 0.4933 - accuracy: 0.8174\n",
            "Epoch 12/20\n",
            "10/10 [==============================] - 0s 2ms/step - loss: 0.5351 - accuracy: 0.8087\n",
            "Epoch 13/20\n",
            "10/10 [==============================] - 0s 2ms/step - loss: 0.3799 - accuracy: 0.8674\n",
            "Epoch 14/20\n",
            "10/10 [==============================] - 0s 2ms/step - loss: 0.3337 - accuracy: 0.8957\n",
            "Epoch 15/20\n",
            "10/10 [==============================] - 0s 2ms/step - loss: 0.6094 - accuracy: 0.7957\n",
            "Epoch 16/20\n",
            "10/10 [==============================] - 0s 2ms/step - loss: 0.4150 - accuracy: 0.8739\n",
            "Epoch 17/20\n",
            "10/10 [==============================] - 0s 2ms/step - loss: 0.2067 - accuracy: 0.9174\n",
            "Epoch 18/20\n",
            "10/10 [==============================] - 0s 2ms/step - loss: 0.6176 - accuracy: 0.8239\n",
            "Epoch 19/20\n",
            "10/10 [==============================] - 0s 2ms/step - loss: 0.4131 - accuracy: 0.8587\n",
            "Epoch 20/20\n",
            "10/10 [==============================] - 0s 2ms/step - loss: 0.3971 - accuracy: 0.8630\n"
          ]
        },
        {
          "output_type": "execute_result",
          "data": {
            "text/plain": [
              "<keras.callbacks.History at 0x7f3a87621b90>"
            ]
          },
          "metadata": {},
          "execution_count": 30
        }
      ]
    },
    {
      "cell_type": "code",
      "source": [
        "predictions = model.predict(X_test)\n",
        "predictions = (predictions > 0.5).astype('int32')"
      ],
      "metadata": {
        "id": "g7YARfeGdopl"
      },
      "execution_count": 31,
      "outputs": []
    },
    {
      "cell_type": "code",
      "source": [
        "print('Accuracy:', metrics.accuracy_score(y_test, predictions))\n",
        "print(metrics.classification_report(y_test, predictions))"
      ],
      "metadata": {
        "colab": {
          "base_uri": "https://localhost:8080/"
        },
        "outputId": "b1088aa3-8ff8-4368-a653-a73e9112485e",
        "id": "Xks_z-BaeZa5"
      },
      "execution_count": 32,
      "outputs": [
        {
          "output_type": "stream",
          "name": "stdout",
          "text": [
            "Accuracy: 0.926605504587156\n",
            "              precision    recall  f1-score   support\n",
            "\n",
            "           0       1.00      0.69      0.82        26\n",
            "           1       0.91      1.00      0.95        83\n",
            "\n",
            "    accuracy                           0.93       109\n",
            "   macro avg       0.96      0.85      0.89       109\n",
            "weighted avg       0.93      0.93      0.92       109\n",
            "\n"
          ]
        }
      ]
    },
    {
      "cell_type": "code",
      "source": [
        "confusion = metrics.confusion_matrix(y_test, predictions)\n",
        "print(confusion)"
      ],
      "metadata": {
        "colab": {
          "base_uri": "https://localhost:8080/"
        },
        "outputId": "81eb2047-0646-4bf9-c224-422aee770938",
        "id": "HQXbC5OcezNF"
      },
      "execution_count": 33,
      "outputs": [
        {
          "output_type": "stream",
          "name": "stdout",
          "text": [
            "[[18  8]\n",
            " [ 0 83]]\n"
          ]
        }
      ]
    }
  ]
}