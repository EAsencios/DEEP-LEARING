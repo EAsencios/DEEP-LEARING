{
  "nbformat": 4,
  "nbformat_minor": 0,
  "metadata": {
    "colab": {
      "name": "keras_basics.ipynb",
      "provenance": [],
      "collapsed_sections": [],
      "authorship_tag": "ABX9TyM61zDQt1XqICGt5nZe4oGu",
      "include_colab_link": true
    },
    "kernelspec": {
      "name": "python3",
      "display_name": "Python 3"
    },
    "language_info": {
      "name": "python"
    }
  },
  "cells": [
    {
      "cell_type": "markdown",
      "metadata": {
        "id": "view-in-github",
        "colab_type": "text"
      },
      "source": [
        "<a href=\"https://colab.research.google.com/github/EAsencios/DEEP-LEARING/blob/master/keras_basics.ipynb\" target=\"_parent\"><img src=\"https://colab.research.google.com/assets/colab-badge.svg\" alt=\"Open In Colab\"/></a>"
      ]
    },
    {
      "cell_type": "code",
      "execution_count": 55,
      "metadata": {
        "id": "KcOVPmXThYhd"
      },
      "outputs": [],
      "source": [
        "import numpy as np\n",
        "from sklearn.datasets import load_breast_cancer\n",
        "from keras.models import Sequential\n",
        "from keras.layers import Dense, Dropout\n",
        "from sklearn import metrics\n"
      ]
    },
    {
      "cell_type": "code",
      "source": [
        "cancer = load_breast_cancer()\n",
        "X_train = cancer.data[:460]\n",
        "y_train = cancer.target[:460]\n",
        "\n",
        "X_test = cancer.data[460:]\n",
        "y_test = cancer.target[460:]"
      ],
      "metadata": {
        "id": "PpAgJrBYiQhZ"
      },
      "execution_count": 56,
      "outputs": []
    },
    {
      "cell_type": "code",
      "source": [
        "model = Sequential()\n",
        "model.add(Dense(15, input_dim=30, activation='relu'))\n",
        "model.add(Dense(1, activation='sigmoid'))"
      ],
      "metadata": {
        "id": "bPD6-VKMmtuF"
      },
      "execution_count": 65,
      "outputs": []
    },
    {
      "cell_type": "code",
      "source": [
        "model.compile(loss='binary_crossentropy', optimizer='rmsprop', metrics=['accuracy'])\n",
        "model.fit(X_train, y_train, epochs=20, batch_size=50)"
      ],
      "metadata": {
        "colab": {
          "base_uri": "https://localhost:8080/"
        },
        "id": "vOvjQiAVpu8l",
        "outputId": "013553f3-2206-41e7-d70a-d1ededa94c96"
      },
      "execution_count": 66,
      "outputs": [
        {
          "output_type": "stream",
          "name": "stdout",
          "text": [
            "Epoch 1/20\n",
            "10/10 [==============================] - 1s 2ms/step - loss: 22.9854 - accuracy: 0.5435\n",
            "Epoch 2/20\n",
            "10/10 [==============================] - 0s 2ms/step - loss: 3.8241 - accuracy: 0.5196\n",
            "Epoch 3/20\n",
            "10/10 [==============================] - 0s 2ms/step - loss: 3.5498 - accuracy: 0.5457\n",
            "Epoch 4/20\n",
            "10/10 [==============================] - 0s 2ms/step - loss: 2.6747 - accuracy: 0.5957\n",
            "Epoch 5/20\n",
            "10/10 [==============================] - 0s 2ms/step - loss: 2.4596 - accuracy: 0.6413\n",
            "Epoch 6/20\n",
            "10/10 [==============================] - 0s 2ms/step - loss: 2.1778 - accuracy: 0.6609\n",
            "Epoch 7/20\n",
            "10/10 [==============================] - 0s 2ms/step - loss: 1.7124 - accuracy: 0.7087\n",
            "Epoch 8/20\n",
            "10/10 [==============================] - 0s 2ms/step - loss: 1.5538 - accuracy: 0.7543\n",
            "Epoch 9/20\n",
            "10/10 [==============================] - 0s 2ms/step - loss: 1.4971 - accuracy: 0.7652\n",
            "Epoch 10/20\n",
            "10/10 [==============================] - 0s 2ms/step - loss: 1.2950 - accuracy: 0.8065\n",
            "Epoch 11/20\n",
            "10/10 [==============================] - 0s 2ms/step - loss: 0.9249 - accuracy: 0.8000\n",
            "Epoch 12/20\n",
            "10/10 [==============================] - 0s 2ms/step - loss: 1.3155 - accuracy: 0.8109\n",
            "Epoch 13/20\n",
            "10/10 [==============================] - 0s 3ms/step - loss: 1.0405 - accuracy: 0.8348\n",
            "Epoch 14/20\n",
            "10/10 [==============================] - 0s 2ms/step - loss: 0.8155 - accuracy: 0.8543\n",
            "Epoch 15/20\n",
            "10/10 [==============================] - 0s 2ms/step - loss: 1.2045 - accuracy: 0.8000\n",
            "Epoch 16/20\n",
            "10/10 [==============================] - 0s 2ms/step - loss: 0.8439 - accuracy: 0.8413\n",
            "Epoch 17/20\n",
            "10/10 [==============================] - 0s 2ms/step - loss: 0.7236 - accuracy: 0.8565\n",
            "Epoch 18/20\n",
            "10/10 [==============================] - 0s 2ms/step - loss: 0.7322 - accuracy: 0.8478\n",
            "Epoch 19/20\n",
            "10/10 [==============================] - 0s 2ms/step - loss: 0.5571 - accuracy: 0.8870\n",
            "Epoch 20/20\n",
            "10/10 [==============================] - 0s 2ms/step - loss: 0.8961 - accuracy: 0.8522\n"
          ]
        },
        {
          "output_type": "execute_result",
          "data": {
            "text/plain": [
              "<keras.callbacks.History at 0x7f9cdf9c9150>"
            ]
          },
          "metadata": {},
          "execution_count": 66
        }
      ]
    },
    {
      "cell_type": "code",
      "source": [
        "scores= model.evaluate(X_test, y_test, verbose=0)\n"
      ],
      "metadata": {
        "id": "z-_vBZufq8xS"
      },
      "execution_count": 67,
      "outputs": []
    },
    {
      "cell_type": "code",
      "source": [
        "print('Accuracy: {:.2f}'.format(scores[1]*100))"
      ],
      "metadata": {
        "colab": {
          "base_uri": "https://localhost:8080/"
        },
        "id": "5OGozhSxtt23",
        "outputId": "4edc08bd-4e58-4e61-e723-2244a07e3522"
      },
      "execution_count": 68,
      "outputs": [
        {
          "output_type": "stream",
          "name": "stdout",
          "text": [
            "Accuracy: 85.32\n"
          ]
        }
      ]
    },
    {
      "cell_type": "code",
      "source": [
        "pred = model.predict(X_test)\n",
        "pred"
      ],
      "metadata": {
        "id": "87TyTpT0LQb4",
        "colab": {
          "base_uri": "https://localhost:8080/"
        },
        "outputId": "1f549d5b-6a45-4264-efde-d0501ce72cfe"
      },
      "execution_count": 69,
      "outputs": [
        {
          "output_type": "execute_result",
          "data": {
            "text/plain": [
              "array([[6.21998300e-21],\n",
              "       [0.00000000e+00],\n",
              "       [9.99948502e-01],\n",
              "       [9.98655796e-01],\n",
              "       [7.96634793e-01],\n",
              "       [4.39262033e-01],\n",
              "       [5.98958850e-01],\n",
              "       [9.33716953e-01],\n",
              "       [6.50665246e-16],\n",
              "       [9.25580144e-01],\n",
              "       [9.23909545e-01],\n",
              "       [8.06723297e-01],\n",
              "       [9.45290923e-03],\n",
              "       [9.99175668e-01],\n",
              "       [9.97903109e-01],\n",
              "       [9.97226715e-01],\n",
              "       [4.99117374e-02],\n",
              "       [9.97869790e-01],\n",
              "       [9.99848068e-01],\n",
              "       [9.99232888e-01],\n",
              "       [9.99700248e-01],\n",
              "       [2.79834867e-03],\n",
              "       [9.90735531e-01],\n",
              "       [9.93172348e-01],\n",
              "       [9.99716759e-01],\n",
              "       [9.92897987e-01],\n",
              "       [9.56382155e-01],\n",
              "       [3.77863471e-19],\n",
              "       [5.15596628e-01],\n",
              "       [5.57969034e-01],\n",
              "       [8.82276475e-01],\n",
              "       [3.98052633e-02],\n",
              "       [2.59592001e-12],\n",
              "       [9.99199152e-01],\n",
              "       [9.97865200e-01],\n",
              "       [9.99938905e-01],\n",
              "       [5.83462536e-01],\n",
              "       [9.87665772e-01],\n",
              "       [1.64703951e-19],\n",
              "       [3.31286132e-09],\n",
              "       [2.61262834e-01],\n",
              "       [1.06687486e-01],\n",
              "       [9.99139309e-01],\n",
              "       [1.08364587e-35],\n",
              "       [9.92689967e-01],\n",
              "       [9.94916081e-01],\n",
              "       [9.99836087e-01],\n",
              "       [9.99821663e-01],\n",
              "       [9.99479294e-01],\n",
              "       [9.92648959e-01],\n",
              "       [9.99783397e-01],\n",
              "       [9.99852300e-01],\n",
              "       [8.67058887e-08],\n",
              "       [2.90119648e-03],\n",
              "       [2.22295523e-04],\n",
              "       [9.86100197e-01],\n",
              "       [2.08912922e-12],\n",
              "       [3.09968096e-09],\n",
              "       [2.38820016e-02],\n",
              "       [7.34476447e-01],\n",
              "       [9.62807417e-01],\n",
              "       [9.82165261e-27],\n",
              "       [9.99971628e-01],\n",
              "       [9.78852391e-01],\n",
              "       [9.93215859e-01],\n",
              "       [9.97132182e-01],\n",
              "       [7.27786183e-01],\n",
              "       [9.98180985e-01],\n",
              "       [9.98743892e-01],\n",
              "       [8.95518959e-01],\n",
              "       [9.28653240e-01],\n",
              "       [9.46382880e-01],\n",
              "       [3.24210823e-02],\n",
              "       [6.09782234e-08],\n",
              "       [9.99991834e-01],\n",
              "       [5.46090882e-14],\n",
              "       [9.99995112e-01],\n",
              "       [9.99719620e-01],\n",
              "       [9.14317250e-01],\n",
              "       [9.93896604e-01],\n",
              "       [9.99447107e-01],\n",
              "       [9.95673180e-01],\n",
              "       [9.73047256e-01],\n",
              "       [9.99960303e-01],\n",
              "       [9.97902691e-01],\n",
              "       [5.46068311e-01],\n",
              "       [9.98668194e-01],\n",
              "       [9.99950945e-01],\n",
              "       [9.88187790e-01],\n",
              "       [1.58615500e-01],\n",
              "       [9.99129057e-01],\n",
              "       [9.99817729e-01],\n",
              "       [9.99827147e-01],\n",
              "       [9.99620318e-01],\n",
              "       [9.99940276e-01],\n",
              "       [9.99989092e-01],\n",
              "       [9.99764323e-01],\n",
              "       [9.98915493e-01],\n",
              "       [9.99990702e-01],\n",
              "       [9.99994397e-01],\n",
              "       [9.99146879e-01],\n",
              "       [9.99990463e-01],\n",
              "       [9.97030735e-01],\n",
              "       [5.09065338e-13],\n",
              "       [5.70210041e-20],\n",
              "       [4.19992166e-12],\n",
              "       [1.04746222e-03],\n",
              "       [7.72575448e-15],\n",
              "       [4.27202582e-01]], dtype=float32)"
            ]
          },
          "metadata": {},
          "execution_count": 69
        }
      ]
    }
  ]
}