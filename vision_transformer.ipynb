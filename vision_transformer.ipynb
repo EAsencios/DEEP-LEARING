{
  "nbformat": 4,
  "nbformat_minor": 0,
  "metadata": {
    "colab": {
      "name": "vision_transformer.ipynb",
      "provenance": [],
      "authorship_tag": "ABX9TyOg8O/QotvBiPQMWt1OYXwa",
      "include_colab_link": true
    },
    "kernelspec": {
      "name": "python3",
      "display_name": "Python 3"
    },
    "language_info": {
      "name": "python"
    },
    "accelerator": "GPU"
  },
  "cells": [
    {
      "cell_type": "markdown",
      "metadata": {
        "id": "view-in-github",
        "colab_type": "text"
      },
      "source": [
        "<a href=\"https://colab.research.google.com/github/EAsencios/DEEP-LEARING/blob/master/vision_transformer.ipynb\" target=\"_parent\"><img src=\"https://colab.research.google.com/assets/colab-badge.svg\" alt=\"Open In Colab\"/></a>"
      ]
    },
    {
      "cell_type": "markdown",
      "source": [
        "### Setup\n",
        "!pip install -U tensorflow_addons"
      ],
      "metadata": {
        "id": "jWBXK34oZkDx"
      }
    },
    {
      "cell_type": "code",
      "source": [
        "!pip install -U tensorflow_addons"
      ],
      "metadata": {
        "colab": {
          "base_uri": "https://localhost:8080/"
        },
        "id": "Gf7mnVDJnfRs",
        "outputId": "2248f685-ea9f-4235-f2e5-8050c2057db7"
      },
      "execution_count": 2,
      "outputs": [
        {
          "output_type": "stream",
          "name": "stdout",
          "text": [
            "Collecting tensorflow_addons\n",
            "  Downloading tensorflow_addons-0.16.1-cp37-cp37m-manylinux_2_12_x86_64.manylinux2010_x86_64.whl (1.1 MB)\n",
            "\u001b[?25l\r\u001b[K     |▎                               | 10 kB 17.6 MB/s eta 0:00:01\r\u001b[K     |▋                               | 20 kB 11.9 MB/s eta 0:00:01\r\u001b[K     |▉                               | 30 kB 9.5 MB/s eta 0:00:01\r\u001b[K     |█▏                              | 40 kB 8.6 MB/s eta 0:00:01\r\u001b[K     |█▌                              | 51 kB 4.5 MB/s eta 0:00:01\r\u001b[K     |█▊                              | 61 kB 5.3 MB/s eta 0:00:01\r\u001b[K     |██                              | 71 kB 5.6 MB/s eta 0:00:01\r\u001b[K     |██▍                             | 81 kB 4.3 MB/s eta 0:00:01\r\u001b[K     |██▋                             | 92 kB 4.8 MB/s eta 0:00:01\r\u001b[K     |███                             | 102 kB 5.1 MB/s eta 0:00:01\r\u001b[K     |███▏                            | 112 kB 5.1 MB/s eta 0:00:01\r\u001b[K     |███▌                            | 122 kB 5.1 MB/s eta 0:00:01\r\u001b[K     |███▉                            | 133 kB 5.1 MB/s eta 0:00:01\r\u001b[K     |████                            | 143 kB 5.1 MB/s eta 0:00:01\r\u001b[K     |████▍                           | 153 kB 5.1 MB/s eta 0:00:01\r\u001b[K     |████▊                           | 163 kB 5.1 MB/s eta 0:00:01\r\u001b[K     |█████                           | 174 kB 5.1 MB/s eta 0:00:01\r\u001b[K     |█████▎                          | 184 kB 5.1 MB/s eta 0:00:01\r\u001b[K     |█████▌                          | 194 kB 5.1 MB/s eta 0:00:01\r\u001b[K     |█████▉                          | 204 kB 5.1 MB/s eta 0:00:01\r\u001b[K     |██████▏                         | 215 kB 5.1 MB/s eta 0:00:01\r\u001b[K     |██████▍                         | 225 kB 5.1 MB/s eta 0:00:01\r\u001b[K     |██████▊                         | 235 kB 5.1 MB/s eta 0:00:01\r\u001b[K     |███████                         | 245 kB 5.1 MB/s eta 0:00:01\r\u001b[K     |███████▎                        | 256 kB 5.1 MB/s eta 0:00:01\r\u001b[K     |███████▋                        | 266 kB 5.1 MB/s eta 0:00:01\r\u001b[K     |███████▉                        | 276 kB 5.1 MB/s eta 0:00:01\r\u001b[K     |████████▏                       | 286 kB 5.1 MB/s eta 0:00:01\r\u001b[K     |████████▌                       | 296 kB 5.1 MB/s eta 0:00:01\r\u001b[K     |████████▊                       | 307 kB 5.1 MB/s eta 0:00:01\r\u001b[K     |█████████                       | 317 kB 5.1 MB/s eta 0:00:01\r\u001b[K     |█████████▍                      | 327 kB 5.1 MB/s eta 0:00:01\r\u001b[K     |█████████▋                      | 337 kB 5.1 MB/s eta 0:00:01\r\u001b[K     |██████████                      | 348 kB 5.1 MB/s eta 0:00:01\r\u001b[K     |██████████▏                     | 358 kB 5.1 MB/s eta 0:00:01\r\u001b[K     |██████████▌                     | 368 kB 5.1 MB/s eta 0:00:01\r\u001b[K     |██████████▉                     | 378 kB 5.1 MB/s eta 0:00:01\r\u001b[K     |███████████                     | 389 kB 5.1 MB/s eta 0:00:01\r\u001b[K     |███████████▍                    | 399 kB 5.1 MB/s eta 0:00:01\r\u001b[K     |███████████▊                    | 409 kB 5.1 MB/s eta 0:00:01\r\u001b[K     |████████████                    | 419 kB 5.1 MB/s eta 0:00:01\r\u001b[K     |████████████▎                   | 430 kB 5.1 MB/s eta 0:00:01\r\u001b[K     |████████████▌                   | 440 kB 5.1 MB/s eta 0:00:01\r\u001b[K     |████████████▉                   | 450 kB 5.1 MB/s eta 0:00:01\r\u001b[K     |█████████████▏                  | 460 kB 5.1 MB/s eta 0:00:01\r\u001b[K     |█████████████▍                  | 471 kB 5.1 MB/s eta 0:00:01\r\u001b[K     |█████████████▊                  | 481 kB 5.1 MB/s eta 0:00:01\r\u001b[K     |██████████████                  | 491 kB 5.1 MB/s eta 0:00:01\r\u001b[K     |██████████████▎                 | 501 kB 5.1 MB/s eta 0:00:01\r\u001b[K     |██████████████▋                 | 512 kB 5.1 MB/s eta 0:00:01\r\u001b[K     |██████████████▉                 | 522 kB 5.1 MB/s eta 0:00:01\r\u001b[K     |███████████████▏                | 532 kB 5.1 MB/s eta 0:00:01\r\u001b[K     |███████████████▌                | 542 kB 5.1 MB/s eta 0:00:01\r\u001b[K     |███████████████▊                | 552 kB 5.1 MB/s eta 0:00:01\r\u001b[K     |████████████████                | 563 kB 5.1 MB/s eta 0:00:01\r\u001b[K     |████████████████▍               | 573 kB 5.1 MB/s eta 0:00:01\r\u001b[K     |████████████████▋               | 583 kB 5.1 MB/s eta 0:00:01\r\u001b[K     |█████████████████               | 593 kB 5.1 MB/s eta 0:00:01\r\u001b[K     |█████████████████▏              | 604 kB 5.1 MB/s eta 0:00:01\r\u001b[K     |█████████████████▌              | 614 kB 5.1 MB/s eta 0:00:01\r\u001b[K     |█████████████████▉              | 624 kB 5.1 MB/s eta 0:00:01\r\u001b[K     |██████████████████              | 634 kB 5.1 MB/s eta 0:00:01\r\u001b[K     |██████████████████▍             | 645 kB 5.1 MB/s eta 0:00:01\r\u001b[K     |██████████████████▊             | 655 kB 5.1 MB/s eta 0:00:01\r\u001b[K     |███████████████████             | 665 kB 5.1 MB/s eta 0:00:01\r\u001b[K     |███████████████████▎            | 675 kB 5.1 MB/s eta 0:00:01\r\u001b[K     |███████████████████▌            | 686 kB 5.1 MB/s eta 0:00:01\r\u001b[K     |███████████████████▉            | 696 kB 5.1 MB/s eta 0:00:01\r\u001b[K     |████████████████████▏           | 706 kB 5.1 MB/s eta 0:00:01\r\u001b[K     |████████████████████▍           | 716 kB 5.1 MB/s eta 0:00:01\r\u001b[K     |████████████████████▊           | 727 kB 5.1 MB/s eta 0:00:01\r\u001b[K     |█████████████████████           | 737 kB 5.1 MB/s eta 0:00:01\r\u001b[K     |█████████████████████▎          | 747 kB 5.1 MB/s eta 0:00:01\r\u001b[K     |█████████████████████▋          | 757 kB 5.1 MB/s eta 0:00:01\r\u001b[K     |█████████████████████▉          | 768 kB 5.1 MB/s eta 0:00:01\r\u001b[K     |██████████████████████▏         | 778 kB 5.1 MB/s eta 0:00:01\r\u001b[K     |██████████████████████▌         | 788 kB 5.1 MB/s eta 0:00:01\r\u001b[K     |██████████████████████▊         | 798 kB 5.1 MB/s eta 0:00:01\r\u001b[K     |███████████████████████         | 808 kB 5.1 MB/s eta 0:00:01\r\u001b[K     |███████████████████████▍        | 819 kB 5.1 MB/s eta 0:00:01\r\u001b[K     |███████████████████████▋        | 829 kB 5.1 MB/s eta 0:00:01\r\u001b[K     |████████████████████████        | 839 kB 5.1 MB/s eta 0:00:01\r\u001b[K     |████████████████████████▏       | 849 kB 5.1 MB/s eta 0:00:01\r\u001b[K     |████████████████████████▌       | 860 kB 5.1 MB/s eta 0:00:01\r\u001b[K     |████████████████████████▉       | 870 kB 5.1 MB/s eta 0:00:01\r\u001b[K     |█████████████████████████       | 880 kB 5.1 MB/s eta 0:00:01\r\u001b[K     |█████████████████████████▍      | 890 kB 5.1 MB/s eta 0:00:01\r\u001b[K     |█████████████████████████▊      | 901 kB 5.1 MB/s eta 0:00:01\r\u001b[K     |██████████████████████████      | 911 kB 5.1 MB/s eta 0:00:01\r\u001b[K     |██████████████████████████▎     | 921 kB 5.1 MB/s eta 0:00:01\r\u001b[K     |██████████████████████████▌     | 931 kB 5.1 MB/s eta 0:00:01\r\u001b[K     |██████████████████████████▉     | 942 kB 5.1 MB/s eta 0:00:01\r\u001b[K     |███████████████████████████▏    | 952 kB 5.1 MB/s eta 0:00:01\r\u001b[K     |███████████████████████████▍    | 962 kB 5.1 MB/s eta 0:00:01\r\u001b[K     |███████████████████████████▊    | 972 kB 5.1 MB/s eta 0:00:01\r\u001b[K     |████████████████████████████    | 983 kB 5.1 MB/s eta 0:00:01\r\u001b[K     |████████████████████████████▎   | 993 kB 5.1 MB/s eta 0:00:01\r\u001b[K     |████████████████████████████▋   | 1.0 MB 5.1 MB/s eta 0:00:01\r\u001b[K     |████████████████████████████▉   | 1.0 MB 5.1 MB/s eta 0:00:01\r\u001b[K     |█████████████████████████████▏  | 1.0 MB 5.1 MB/s eta 0:00:01\r\u001b[K     |█████████████████████████████▌  | 1.0 MB 5.1 MB/s eta 0:00:01\r\u001b[K     |█████████████████████████████▊  | 1.0 MB 5.1 MB/s eta 0:00:01\r\u001b[K     |██████████████████████████████  | 1.1 MB 5.1 MB/s eta 0:00:01\r\u001b[K     |██████████████████████████████▍ | 1.1 MB 5.1 MB/s eta 0:00:01\r\u001b[K     |██████████████████████████████▋ | 1.1 MB 5.1 MB/s eta 0:00:01\r\u001b[K     |███████████████████████████████ | 1.1 MB 5.1 MB/s eta 0:00:01\r\u001b[K     |███████████████████████████████▏| 1.1 MB 5.1 MB/s eta 0:00:01\r\u001b[K     |███████████████████████████████▌| 1.1 MB 5.1 MB/s eta 0:00:01\r\u001b[K     |███████████████████████████████▉| 1.1 MB 5.1 MB/s eta 0:00:01\r\u001b[K     |████████████████████████████████| 1.1 MB 5.1 MB/s \n",
            "\u001b[?25hRequirement already satisfied: typeguard>=2.7 in /usr/local/lib/python3.7/dist-packages (from tensorflow_addons) (2.7.1)\n",
            "Installing collected packages: tensorflow-addons\n",
            "Successfully installed tensorflow-addons-0.16.1\n"
          ]
        }
      ]
    },
    {
      "cell_type": "code",
      "execution_count": 3,
      "metadata": {
        "id": "zF4t3Q3JG-ht"
      },
      "outputs": [],
      "source": [
        "import numpy as np\n",
        "import tensorflow as tf\n",
        "from tensorflow import keras\n",
        "from tensorflow.keras import layers\n",
        "import tensorflow_addons as tfa"
      ]
    },
    {
      "cell_type": "markdown",
      "source": [
        "### Preparate the data"
      ],
      "metadata": {
        "id": "uaDDWIBsZsQV"
      }
    },
    {
      "cell_type": "code",
      "source": [
        "num_classes = 100\n",
        "input_shape = (32, 32, 3)\n",
        "\n",
        "(X_train, y_train), (X_test, y_test) = keras.datasets.cifar100.load_data()\n",
        "\n",
        "print('X_train shape: {} - y_train shape: {}'.format(X_train.shape, y_train.shape))\n",
        "print(\"X_test shape: {} - y_test shape: {}\".format(X_test.shape, y_train.shape))"
      ],
      "metadata": {
        "colab": {
          "base_uri": "https://localhost:8080/"
        },
        "id": "FlYgqsuuH2Y9",
        "outputId": "935241f8-36cd-417b-8d2b-5556db612f84"
      },
      "execution_count": 4,
      "outputs": [
        {
          "output_type": "stream",
          "name": "stdout",
          "text": [
            "Downloading data from https://www.cs.toronto.edu/~kriz/cifar-100-python.tar.gz\n",
            "169009152/169001437 [==============================] - 3s 0us/step\n",
            "169017344/169001437 [==============================] - 3s 0us/step\n",
            "X_train shape: (50000, 32, 32, 3) - y_train shape: (50000, 1)\n",
            "X_test shape: (10000, 32, 32, 3) - y_test shape: (50000, 1)\n"
          ]
        }
      ]
    },
    {
      "cell_type": "markdown",
      "source": [
        "### Configure the hyperparameters"
      ],
      "metadata": {
        "id": "wlEMAbGSZy__"
      }
    },
    {
      "cell_type": "code",
      "source": [
        "learning_rate = 0.001\n",
        "weight_decay = 0.0001\n",
        "batch_size = 256\n",
        "num_epochs = 100\n",
        "image_size = 72   # We'll resize input images to this size\n",
        "patch_size = 6  # Size of the patches to be extraxt from the input images\n",
        "num_patches = (image_size // patch_size)**2\n",
        "projection_dim = 64\n",
        "num_heads = 4\n",
        "transformer_units = [\n",
        "                     projection_dim*2,\n",
        "                     projection_dim,\n",
        "]   # Size of the transformer layers\n",
        "transformer_layers = 8\n",
        "mlp_head_units = [2048, 1024] # Size of the dense layers of the final classifier"
      ],
      "metadata": {
        "id": "wdMm7eDrLFvb"
      },
      "execution_count": 5,
      "outputs": []
    },
    {
      "cell_type": "markdown",
      "source": [
        "### Use data augmentation"
      ],
      "metadata": {
        "id": "EZXZ1U-JaAeb"
      }
    },
    {
      "cell_type": "code",
      "source": [
        "from sys import hexversion\n",
        "data_augmentation = keras.Sequential(\n",
        "    [\n",
        "     layers.Normalization(),\n",
        "     layers.Resizing(image_size, image_size),\n",
        "     layers.RandomFlip(\"horizontal\"),\n",
        "     layers.RandomRotation(factor=0.02),\n",
        "     layers.RandomZoom(height_factor=.2, width_factor=.2),\n",
        "     ],\n",
        "     name = \"data_augmentation\",\n",
        ")\n",
        "\n",
        "# Compute the mean and the variance of the training data for normalization.\n",
        "data_augmentation.layers[0].adapt(X_train)"
      ],
      "metadata": {
        "id": "2XSEh4ZqQOsh"
      },
      "execution_count": 6,
      "outputs": []
    },
    {
      "cell_type": "markdown",
      "source": [
        "### Implement multilayer perceptron"
      ],
      "metadata": {
        "id": "Zzh92SQLaJb8"
      }
    },
    {
      "cell_type": "code",
      "source": [
        "def mlp(x, hidden_units, dropout_rate):\n",
        "  for units in hidden_units:\n",
        "    x = layers.Dense(units, activation=tf.nn.gelu)(x)\n",
        "    x = layers.Dropout(dropout_rate)(x)\n",
        "  return x"
      ],
      "metadata": {
        "id": "nAD_WLxWYcFH"
      },
      "execution_count": 7,
      "outputs": []
    },
    {
      "cell_type": "markdown",
      "source": [
        "### Implement pach creation as a layer"
      ],
      "metadata": {
        "id": "8Lt8Hb-MaVCy"
      }
    },
    {
      "cell_type": "code",
      "source": [
        "class Patches(layers.Layer):\n",
        "  def __init__(self, patch_size):\n",
        "      super(Patches, self).__init__()\n",
        "      self.patch_size = patch_size\n",
        "\n",
        "  def call(self, images):\n",
        "    batch_size = tf.shape(images)[0]\n",
        "    patches = tf.image.extract_patches(images=images,\n",
        "                                       sizes=[1, self.patch_size, self.patch_size, 1],\n",
        "                                       strides=[1, self.patch_size, self.patch_size, 1],\n",
        "                                       rates=[1, 1, 1, 1],\n",
        "                                       padding=\"VALID\",\n",
        "                                       )\n",
        "    patch_dims = patches.shape[-1]\n",
        "    patches = tf.reshape(patches, [batch_size, -1, patch_dims])\n",
        "    return patches"
      ],
      "metadata": {
        "id": "6Uv7rPRcZfes"
      },
      "execution_count": 8,
      "outputs": []
    },
    {
      "cell_type": "markdown",
      "source": [
        "Let's display patches for a sample image"
      ],
      "metadata": {
        "id": "O-dYxfrUh_Vk"
      }
    },
    {
      "cell_type": "code",
      "source": [
        "import matplotlib.pyplot as plt\n",
        "\n",
        "plt.figure(figsize=(4,4))\n",
        "image = X_train[np.random.choice(range(X_train.shape[0]))]\n",
        "plt.imshow(image.astype('uint8'))\n",
        "plt.axis('off')\n",
        "\n",
        "resized_image = tf.image.resize(tf.convert_to_tensor([image]), size=(image_size, image_size))\n",
        "patches = Patches(patch_size)(resized_image)\n",
        "print(f\"Image size: {image_size} X {image_size}\")\n",
        "print(f\"Patch size: {patch_size} X {patch_size}\")\n",
        "print(f\"Patches per image: {patches.shape[1]}\")\n",
        "print(f\"Elements per patch: {patches.shape[-1]}\")\n",
        "\n",
        "n = int(np.sqrt(patches.shape[1]))\n",
        "plt.figure(figsize=(4,4))\n",
        "for i, patch in enumerate(patches[0]):\n",
        "  ax = plt.subplot(n, n, i + 1)\n",
        "  patch_img = tf.reshape(patch, (patch_size, patch_size, 3))\n",
        "  plt.imshow(patch_img.numpy().astype(\"uint8\"))\n",
        "  plt.axis(\"off\")"
      ],
      "metadata": {
        "colab": {
          "base_uri": "https://localhost:8080/",
          "height": 548
        },
        "id": "EKDnBr8qiMs6",
        "outputId": "b36af8c6-d4a5-4149-9f9d-ee3eb86304c5"
      },
      "execution_count": 9,
      "outputs": [
        {
          "output_type": "stream",
          "name": "stdout",
          "text": [
            "Image size: 72 X 72\n",
            "Patch size: 6 X 6\n",
            "Patches per image: 144\n",
            "Elements per patch: 108\n"
          ]
        },
        {
          "output_type": "display_data",
          "data": {
            "image/png": "[encoded data removed]",
            "text/plain": [
              "<Figure size 288x288 with 1 Axes>"
            ]
          },
          "metadata": {
            "needs_background": "light"
          }
        },
        {
          "output_type": "display_data",
          "data": {
            "image/png": "[encoded data removed]",
            "text/plain": [
              "<Figure size 288x288 with 144 Axes>"
            ]
          },
          "metadata": {
            "needs_background": "light"
          }
        }
      ]
    },
    {
      "cell_type": "markdown",
      "source": [
        "## Implement the patch encoding layer"
      ],
      "metadata": {
        "id": "gZeBjajLzvJl"
      }
    },
    {
      "cell_type": "code",
      "source": [
        "\n",
        "class PatchEncoder(layers.Layer):\n",
        "  def __init__(self, num_patches, projection_dim):\n",
        "      super(PatchEncoder, self).__init__()\n",
        "      self.num_patches = num_patches\n",
        "      self.projection = layers.Dense(units=projection_dim)\n",
        "      self.position_embedding = layers.Embedding(\n",
        "                                                input_dim = num_patches,\n",
        "                                                output_dim = projection_dim\n",
        "                                                )\n",
        "      \n",
        "  def call(self, patch):\n",
        "    positions = tf.range(start=0, limit=self.num_patches, delta=1)\n",
        "    encoded = self.projection(patch) + self.position_embedding(positions)\n",
        "    return encoded"
      ],
      "metadata": {
        "id": "4NxPwC_Tv7Bs"
      },
      "execution_count": 10,
      "outputs": []
    },
    {
      "cell_type": "markdown",
      "source": [
        "Build the ViT model"
      ],
      "metadata": {
        "id": "InzW45aJz9NN"
      }
    },
    {
      "cell_type": "code",
      "source": [
        "\n",
        "def create_vit_classifier():\n",
        "  inputs = layers.Input(shape=input_shape)\n",
        "  # Augment data.\n",
        "  augmented = data_augmentation(inputs)\n",
        "  # Create patches.\n",
        "  patches = Patches(patch_size)(augmented)\n",
        "  # Encode patches.\n",
        "  encoded_patches = PatchEncoder(num_patches, projection_dim)(patches)\n",
        "\n",
        "  # Create multiple layers fo the Transformes block.\n",
        "  for _ in range(transformer_layers):\n",
        "    # Layer normalization 1.\n",
        "    x1 = layers.LayerNormalization(epsilon=1e-6)(encoded_patches)\n",
        "    # Create a multi-head attention layer.\n",
        "    attention_output = layers.MultiHeadAttention(\n",
        "                                                 num_heads = num_heads,\n",
        "                                                 key_dim = projection_dim,\n",
        "                                                 dropout=0.1\n",
        "                                                )(x1, x1)\n",
        "    # Skip connection 1.\n",
        "    x2 = layers.Add()([attention_output, encoded_patches])\n",
        "    # Layer normalization 2.\n",
        "    x3 = layers.LayerNormalization(epsilon=1e-6)(x2)\n",
        "    #MLP\n",
        "    x3 = mlp(x3, hidden_units=transformer_units, dropout_rate=0.1)\n",
        "    # Skip connection 2.\n",
        "    encoded_patches = layers.Add()([x3, x2])\n",
        "\n",
        "  # Create a [batch_size, projection_dim] tensor.\n",
        "  representation = layers.LayerNormalization(epsilon=1e-6)(encoded_patches)\n",
        "  representation = layers.Flatten()(representation)\n",
        "  representation = layers.Dropout(0.5)(representation)\n",
        "  # Add MLP.\n",
        "  features = mlp(representation, hidden_units=mlp_head_units, dropout_rate=0.5)\n",
        "  # Classify outputs.\n",
        "  logits = layers.Dense(num_classes)(features)\n",
        "  # Create the Keras model.\n",
        "  model = keras.Model(inputs=inputs, outputs=logits)\n",
        "  return model"
      ],
      "metadata": {
        "id": "Egh39y-72uVW"
      },
      "execution_count": 11,
      "outputs": []
    },
    {
      "cell_type": "markdown",
      "source": [
        "## Copile, train, and evaluate the model"
      ],
      "metadata": {
        "id": "hJIqnkdMBIxY"
      }
    },
    {
      "cell_type": "code",
      "source": [
        "\n",
        "def run_experiment(model):\n",
        "  optimizer = tfa.optimizers.AdamW(\n",
        "      learning_rate = learning_rate,\n",
        "      weight_decay = weight_decay\n",
        "  )\n",
        "\n",
        "  model.compile(\n",
        "      optimizer = optimizer,\n",
        "      loss = keras.losses.SparseCategoricalCrossentropy(from_logits=True),\n",
        "      metrics = [\n",
        "                 keras.metrics.SparseCategoricalAccuracy(name=\"accuracy\"),\n",
        "                 keras.metrics.SparseTopKCategoricalAccuracy(5, name=\"top-5-accuracy\"),\n",
        "      ],\n",
        "  )\n",
        "\n",
        "  checkpoint_filepath = \"/tmp/checkpoint\"\n",
        "  checkpoint_callback = keras.callbacks.ModelCheckpoint(\n",
        "      checkpoint_filepath,\n",
        "      monitor=\"val_accuracy\",\n",
        "      save_best_only=True,\n",
        "      save_weights_only=True,\n",
        "  )\n",
        "\n",
        "  history = model.fit(\n",
        "      x=X_train,\n",
        "      y=y_train,\n",
        "      batch_size=batch_size,\n",
        "      epochs=num_epochs,\n",
        "      validation_split=0.1,\n",
        "      callbacks=[checkpoint_callback],\n",
        "  )\n",
        "  model.load_weights(checkpoint_filepath)\n",
        "  _, accuracy, top_5_accuracy = model.evaluate(X_test, y_test)\n",
        "  print(f\"Test accuracy: {round(accuracy*100, 2)}%\")\n",
        "  print(f\"Test top 5 accuracy: {round(top_5_accuracy*100, 2)}%\")\n",
        "\n",
        "  return history"
      ],
      "metadata": {
        "id": "tSf_Vo0gBTHf"
      },
      "execution_count": 12,
      "outputs": []
    },
    {
      "cell_type": "code",
      "source": [
        "vit_classifier = create_vit_classifier()\n",
        "history = run_experiment(vit_classifier)"
      ],
      "metadata": {
        "colab": {
          "base_uri": "https://localhost:8080/"
        },
        "id": "mbvpjyuMHedX",
        "outputId": "4cc41237-5f37-40cf-812f-0f5fc1064e46"
      },
      "execution_count": null,
      "outputs": [
        {
          "output_type": "stream",
          "name": "stdout",
          "text": [
            "Epoch 1/100\n",
            "176/176 [==============================] - 164s 840ms/step - loss: 4.4664 - accuracy: 0.0459 - top-5-accuracy: 0.1620 - val_loss: 3.9330 - val_accuracy: 0.1050 - val_top-5-accuracy: 0.3138\n",
            "Epoch 2/100\n",
            "176/176 [==============================] - 147s 836ms/step - loss: 3.8914 - accuracy: 0.1019 - top-5-accuracy: 0.3041 - val_loss: 3.5470 - val_accuracy: 0.1648 - val_top-5-accuracy: 0.4134\n",
            "Epoch 3/100\n",
            "176/176 [==============================] - 147s 837ms/step - loss: 3.6465 - accuracy: 0.1361 - top-5-accuracy: 0.3782 - val_loss: 3.3949 - val_accuracy: 0.1956 - val_top-5-accuracy: 0.4614\n",
            "Epoch 4/100\n",
            "176/176 [==============================] - 147s 838ms/step - loss: 3.4567 - accuracy: 0.1685 - top-5-accuracy: 0.4347 - val_loss: 3.1522 - val_accuracy: 0.2306 - val_top-5-accuracy: 0.5284\n",
            "Epoch 5/100\n",
            "176/176 [==============================] - 147s 837ms/step - loss: 3.2879 - accuracy: 0.2008 - top-5-accuracy: 0.4814 - val_loss: 2.9817 - val_accuracy: 0.2682 - val_top-5-accuracy: 0.5588\n",
            "Epoch 6/100\n",
            "176/176 [==============================] - 147s 834ms/step - loss: 3.1416 - accuracy: 0.2276 - top-5-accuracy: 0.5245 - val_loss: 2.9054 - val_accuracy: 0.2788 - val_top-5-accuracy: 0.5738\n",
            "Epoch 7/100\n",
            "176/176 [==============================] - 147s 836ms/step - loss: 3.0236 - accuracy: 0.2493 - top-5-accuracy: 0.5511 - val_loss: 2.7540 - val_accuracy: 0.3142 - val_top-5-accuracy: 0.6214\n",
            "Epoch 8/100\n",
            "176/176 [==============================] - 147s 836ms/step - loss: 2.8967 - accuracy: 0.2749 - top-5-accuracy: 0.5839 - val_loss: 2.6429 - val_accuracy: 0.3336 - val_top-5-accuracy: 0.6372\n",
            "Epoch 9/100\n",
            "176/176 [==============================] - 147s 837ms/step - loss: 2.7872 - accuracy: 0.2963 - top-5-accuracy: 0.6083 - val_loss: 2.5782 - val_accuracy: 0.3416 - val_top-5-accuracy: 0.6520\n",
            "Epoch 10/100\n",
            "176/176 [==============================] - 147s 837ms/step - loss: 2.6815 - accuracy: 0.3180 - top-5-accuracy: 0.6326 - val_loss: 2.4869 - val_accuracy: 0.3644 - val_top-5-accuracy: 0.6690\n",
            "Epoch 11/100\n",
            "176/176 [==============================] - 147s 837ms/step - loss: 2.5895 - accuracy: 0.3378 - top-5-accuracy: 0.6518 - val_loss: 2.4378 - val_accuracy: 0.3730 - val_top-5-accuracy: 0.6850\n",
            "Epoch 12/100\n",
            "176/176 [==============================] - 147s 836ms/step - loss: 2.5114 - accuracy: 0.3512 - top-5-accuracy: 0.6709 - val_loss: 2.3522 - val_accuracy: 0.3910 - val_top-5-accuracy: 0.7020\n",
            "Epoch 13/100\n",
            "176/176 [==============================] - 147s 837ms/step - loss: 2.4415 - accuracy: 0.3675 - top-5-accuracy: 0.6867 - val_loss: 2.2995 - val_accuracy: 0.4040 - val_top-5-accuracy: 0.7108\n",
            "Epoch 14/100\n",
            "176/176 [==============================] - 147s 837ms/step - loss: 2.3603 - accuracy: 0.3833 - top-5-accuracy: 0.7042 - val_loss: 2.2740 - val_accuracy: 0.4096 - val_top-5-accuracy: 0.7180\n",
            "Epoch 15/100\n",
            "176/176 [==============================] - 147s 835ms/step - loss: 2.2985 - accuracy: 0.3966 - top-5-accuracy: 0.7150 - val_loss: 2.2402 - val_accuracy: 0.4180 - val_top-5-accuracy: 0.7244\n",
            "Epoch 16/100\n",
            "176/176 [==============================] - 147s 836ms/step - loss: 2.2357 - accuracy: 0.4104 - top-5-accuracy: 0.7298 - val_loss: 2.2014 - val_accuracy: 0.4294 - val_top-5-accuracy: 0.7268\n",
            "Epoch 17/100\n",
            "176/176 [==============================] - 147s 838ms/step - loss: 2.1742 - accuracy: 0.4255 - top-5-accuracy: 0.7410 - val_loss: 2.1723 - val_accuracy: 0.4332 - val_top-5-accuracy: 0.7330\n",
            "Epoch 18/100\n",
            "176/176 [==============================] - 147s 837ms/step - loss: 2.1206 - accuracy: 0.4323 - top-5-accuracy: 0.7490 - val_loss: 2.1591 - val_accuracy: 0.4390 - val_top-5-accuracy: 0.7378\n",
            "Epoch 19/100\n",
            "176/176 [==============================] - 147s 837ms/step - loss: 2.0709 - accuracy: 0.4450 - top-5-accuracy: 0.7600 - val_loss: 2.0965 - val_accuracy: 0.4494 - val_top-5-accuracy: 0.7446\n",
            "Epoch 20/100\n",
            "176/176 [==============================] - 147s 837ms/step - loss: 2.0177 - accuracy: 0.4552 - top-5-accuracy: 0.7692 - val_loss: 2.0977 - val_accuracy: 0.4550 - val_top-5-accuracy: 0.7490\n",
            "Epoch 21/100\n",
            "176/176 [==============================] - 147s 837ms/step - loss: 1.9693 - accuracy: 0.4680 - top-5-accuracy: 0.7799 - val_loss: 2.0628 - val_accuracy: 0.4622 - val_top-5-accuracy: 0.7498\n",
            "Epoch 22/100\n",
            "176/176 [==============================] - 147s 837ms/step - loss: 1.9294 - accuracy: 0.4786 - top-5-accuracy: 0.7873 - val_loss: 2.0414 - val_accuracy: 0.4694 - val_top-5-accuracy: 0.7592\n",
            "Epoch 23/100\n",
            "176/176 [==============================] - 147s 837ms/step - loss: 1.8802 - accuracy: 0.4875 - top-5-accuracy: 0.7982 - val_loss: 2.0447 - val_accuracy: 0.4698 - val_top-5-accuracy: 0.7544\n",
            "Epoch 24/100\n",
            "176/176 [==============================] - 147s 837ms/step - loss: 1.8387 - accuracy: 0.5010 - top-5-accuracy: 0.8042 - val_loss: 2.0022 - val_accuracy: 0.4776 - val_top-5-accuracy: 0.7672\n",
            "Epoch 25/100\n",
            "176/176 [==============================] - 146s 832ms/step - loss: 1.7883 - accuracy: 0.5055 - top-5-accuracy: 0.8138 - val_loss: 2.0084 - val_accuracy: 0.4702 - val_top-5-accuracy: 0.7648\n",
            "Epoch 26/100\n",
            "176/176 [==============================] - 147s 836ms/step - loss: 1.7439 - accuracy: 0.5162 - top-5-accuracy: 0.8220 - val_loss: 1.9727 - val_accuracy: 0.4790 - val_top-5-accuracy: 0.7750\n",
            "Epoch 27/100\n",
            "176/176 [==============================] - 147s 833ms/step - loss: 1.7114 - accuracy: 0.5261 - top-5-accuracy: 0.8270 - val_loss: 1.9569 - val_accuracy: 0.4888 - val_top-5-accuracy: 0.7670\n",
            "Epoch 28/100\n",
            "176/176 [==============================] - 146s 829ms/step - loss: 1.6733 - accuracy: 0.5369 - top-5-accuracy: 0.8316 - val_loss: 1.9665 - val_accuracy: 0.4816 - val_top-5-accuracy: 0.7744\n",
            "Epoch 29/100\n",
            "176/176 [==============================] - 147s 838ms/step - loss: 1.6263 - accuracy: 0.5469 - top-5-accuracy: 0.8432 - val_loss: 1.9272 - val_accuracy: 0.4938 - val_top-5-accuracy: 0.7800\n",
            "Epoch 30/100\n",
            "176/176 [==============================] - 146s 832ms/step - loss: 1.5956 - accuracy: 0.5512 - top-5-accuracy: 0.8477 - val_loss: 1.9488 - val_accuracy: 0.4938 - val_top-5-accuracy: 0.7868\n",
            "Epoch 31/100\n",
            "176/176 [==============================] - 147s 836ms/step - loss: 1.5695 - accuracy: 0.5594 - top-5-accuracy: 0.8520 - val_loss: 1.9040 - val_accuracy: 0.4982 - val_top-5-accuracy: 0.7856\n",
            "Epoch 32/100\n",
            "176/176 [==============================] - 147s 835ms/step - loss: 1.5233 - accuracy: 0.5696 - top-5-accuracy: 0.8603 - val_loss: 1.8920 - val_accuracy: 0.5050 - val_top-5-accuracy: 0.7876\n",
            "Epoch 33/100\n",
            "176/176 [==============================] - 145s 824ms/step - loss: 1.4981 - accuracy: 0.5755 - top-5-accuracy: 0.8648 - val_loss: 1.9268 - val_accuracy: 0.5030 - val_top-5-accuracy: 0.7806\n",
            "Epoch 34/100\n",
            "176/176 [==============================] - 145s 825ms/step - loss: 1.4609 - accuracy: 0.5859 - top-5-accuracy: 0.8711 - val_loss: 1.9035 - val_accuracy: 0.5040 - val_top-5-accuracy: 0.7870\n",
            "Epoch 35/100\n",
            "176/176 [==============================] - 146s 830ms/step - loss: 1.4297 - accuracy: 0.5950 - top-5-accuracy: 0.8750 - val_loss: 1.8842 - val_accuracy: 0.5088 - val_top-5-accuracy: 0.7946\n",
            "Epoch 36/100\n",
            "176/176 [==============================] - 145s 825ms/step - loss: 1.4121 - accuracy: 0.5968 - top-5-accuracy: 0.8771 - val_loss: 1.9343 - val_accuracy: 0.4914 - val_top-5-accuracy: 0.7830\n",
            "Epoch 37/100\n",
            "176/176 [==============================] - 146s 832ms/step - loss: 1.3876 - accuracy: 0.6045 - top-5-accuracy: 0.8820 - val_loss: 1.8543 - val_accuracy: 0.5164 - val_top-5-accuracy: 0.7986\n",
            "Epoch 38/100\n",
            "176/176 [==============================] - 145s 826ms/step - loss: 1.3626 - accuracy: 0.6092 - top-5-accuracy: 0.8852 - val_loss: 1.8800 - val_accuracy: 0.5110 - val_top-5-accuracy: 0.7964\n",
            "Epoch 39/100\n",
            "176/176 [==============================] - 145s 825ms/step - loss: 1.3362 - accuracy: 0.6140 - top-5-accuracy: 0.8898 - val_loss: 1.8879 - val_accuracy: 0.5118 - val_top-5-accuracy: 0.7944\n",
            "Epoch 40/100\n",
            "176/176 [==============================] - 146s 828ms/step - loss: 1.3139 - accuracy: 0.6232 - top-5-accuracy: 0.8930 - val_loss: 1.9012 - val_accuracy: 0.5054 - val_top-5-accuracy: 0.7998\n",
            "Epoch 41/100\n",
            "176/176 [==============================] - 147s 834ms/step - loss: 1.2884 - accuracy: 0.6274 - top-5-accuracy: 0.8960 - val_loss: 1.8545 - val_accuracy: 0.5192 - val_top-5-accuracy: 0.8002\n",
            "Epoch 42/100\n",
            "176/176 [==============================] - 146s 828ms/step - loss: 1.2776 - accuracy: 0.6291 - top-5-accuracy: 0.8992 - val_loss: 1.8949 - val_accuracy: 0.5106 - val_top-5-accuracy: 0.7986\n",
            "Epoch 43/100\n",
            "176/176 [==============================] - 146s 827ms/step - loss: 1.2530 - accuracy: 0.6359 - top-5-accuracy: 0.9025 - val_loss: 1.9071 - val_accuracy: 0.5192 - val_top-5-accuracy: 0.7946\n",
            "Epoch 44/100\n",
            "176/176 [==============================] - 146s 832ms/step - loss: 1.2136 - accuracy: 0.6464 - top-5-accuracy: 0.9088 - val_loss: 1.8689 - val_accuracy: 0.5258 - val_top-5-accuracy: 0.8006\n",
            "Epoch 45/100\n",
            "176/176 [==============================] - 145s 825ms/step - loss: 1.2120 - accuracy: 0.6469 - top-5-accuracy: 0.9081 - val_loss: 1.9049 - val_accuracy: 0.5160 - val_top-5-accuracy: 0.8004\n",
            "Epoch 46/100\n",
            "176/176 [==============================] - 145s 826ms/step - loss: 1.1908 - accuracy: 0.6537 - top-5-accuracy: 0.9109 - val_loss: 1.8930 - val_accuracy: 0.5150 - val_top-5-accuracy: 0.8018\n",
            "Epoch 47/100\n",
            "176/176 [==============================] - 146s 829ms/step - loss: 1.1781 - accuracy: 0.6552 - top-5-accuracy: 0.9120 - val_loss: 1.8754 - val_accuracy: 0.5208 - val_top-5-accuracy: 0.8050\n",
            "Epoch 48/100\n",
            "176/176 [==============================] - 146s 830ms/step - loss: 1.1513 - accuracy: 0.6629 - top-5-accuracy: 0.9177 - val_loss: 1.9038 - val_accuracy: 0.5214 - val_top-5-accuracy: 0.8014\n",
            "Epoch 49/100\n",
            "176/176 [==============================] - 146s 830ms/step - loss: 1.1478 - accuracy: 0.6654 - top-5-accuracy: 0.9167 - val_loss: 1.8883 - val_accuracy: 0.5148 - val_top-5-accuracy: 0.8006\n",
            "Epoch 50/100\n",
            "176/176 [==============================] - 146s 830ms/step - loss: 1.1363 - accuracy: 0.6666 - top-5-accuracy: 0.9187 - val_loss: 1.8924 - val_accuracy: 0.5222 - val_top-5-accuracy: 0.7978\n",
            "Epoch 51/100\n",
            "176/176 [==============================] - 146s 829ms/step - loss: 1.1135 - accuracy: 0.6715 - top-5-accuracy: 0.9215 - val_loss: 1.8596 - val_accuracy: 0.5240 - val_top-5-accuracy: 0.8122\n",
            "Epoch 52/100\n",
            "176/176 [==============================] - 146s 829ms/step - loss: 1.1098 - accuracy: 0.6746 - top-5-accuracy: 0.9226 - val_loss: 1.9198 - val_accuracy: 0.5202 - val_top-5-accuracy: 0.7996\n",
            "Epoch 53/100\n",
            "176/176 [==============================] - 146s 828ms/step - loss: 1.0777 - accuracy: 0.6821 - top-5-accuracy: 0.9275 - val_loss: 1.9045 - val_accuracy: 0.5228 - val_top-5-accuracy: 0.8032\n",
            "Epoch 54/100\n",
            "176/176 [==============================] - 147s 833ms/step - loss: 1.0649 - accuracy: 0.6877 - top-5-accuracy: 0.9283 - val_loss: 1.8690 - val_accuracy: 0.5284 - val_top-5-accuracy: 0.8018\n",
            "Epoch 55/100\n",
            "176/176 [==============================] - 146s 829ms/step - loss: 1.0574 - accuracy: 0.6884 - top-5-accuracy: 0.9282 - val_loss: 1.8935 - val_accuracy: 0.5230 - val_top-5-accuracy: 0.8028\n",
            "Epoch 56/100\n",
            "176/176 [==============================] - 146s 829ms/step - loss: 1.0496 - accuracy: 0.6907 - top-5-accuracy: 0.9297 - val_loss: 1.8913 - val_accuracy: 0.5256 - val_top-5-accuracy: 0.8022\n",
            "Epoch 57/100\n",
            "176/176 [==============================] - 146s 829ms/step - loss: 1.0445 - accuracy: 0.6907 - top-5-accuracy: 0.9305 - val_loss: 1.8816 - val_accuracy: 0.5212 - val_top-5-accuracy: 0.8094\n",
            "Epoch 58/100\n",
            "176/176 [==============================] - 146s 829ms/step - loss: 1.0222 - accuracy: 0.6979 - top-5-accuracy: 0.9329 - val_loss: 1.8826 - val_accuracy: 0.5264 - val_top-5-accuracy: 0.8088\n",
            "Epoch 59/100\n",
            "176/176 [==============================] - 147s 834ms/step - loss: 1.0075 - accuracy: 0.7038 - top-5-accuracy: 0.9354 - val_loss: 1.8947 - val_accuracy: 0.5286 - val_top-5-accuracy: 0.8106\n",
            "Epoch 60/100\n",
            "176/176 [==============================] - 146s 830ms/step - loss: 1.0004 - accuracy: 0.7021 - top-5-accuracy: 0.9352 - val_loss: 1.9098 - val_accuracy: 0.5276 - val_top-5-accuracy: 0.8064\n",
            "Epoch 61/100\n",
            "176/176 [==============================] - 147s 836ms/step - loss: 0.9884 - accuracy: 0.7056 - top-5-accuracy: 0.9372 - val_loss: 1.8986 - val_accuracy: 0.5296 - val_top-5-accuracy: 0.8032\n",
            "Epoch 62/100\n",
            "176/176 [==============================] - 146s 830ms/step - loss: 0.9698 - accuracy: 0.7106 - top-5-accuracy: 0.9406 - val_loss: 1.9031 - val_accuracy: 0.5236 - val_top-5-accuracy: 0.8022\n",
            "Epoch 63/100\n",
            "176/176 [==============================] - 146s 830ms/step - loss: 0.9777 - accuracy: 0.7077 - top-5-accuracy: 0.9403 - val_loss: 1.9068 - val_accuracy: 0.5240 - val_top-5-accuracy: 0.8134\n",
            "Epoch 64/100\n",
            "176/176 [==============================] - 146s 830ms/step - loss: 0.9426 - accuracy: 0.7173 - top-5-accuracy: 0.9434 - val_loss: 1.9327 - val_accuracy: 0.5208 - val_top-5-accuracy: 0.8004\n",
            "Epoch 65/100\n",
            "176/176 [==============================] - 147s 835ms/step - loss: 0.9620 - accuracy: 0.7115 - top-5-accuracy: 0.9427 - val_loss: 1.8996 - val_accuracy: 0.5300 - val_top-5-accuracy: 0.8072\n",
            "Epoch 66/100\n",
            "176/176 [==============================] - 146s 831ms/step - loss: 0.9332 - accuracy: 0.7238 - top-5-accuracy: 0.9447 - val_loss: 1.9138 - val_accuracy: 0.5294 - val_top-5-accuracy: 0.8080\n",
            "Epoch 67/100\n",
            "176/176 [==============================] - 146s 830ms/step - loss: 0.9247 - accuracy: 0.7208 - top-5-accuracy: 0.9455 - val_loss: 1.9374 - val_accuracy: 0.5288 - val_top-5-accuracy: 0.8002\n",
            "Epoch 68/100\n",
            "176/176 [==============================] - 146s 830ms/step - loss: 0.9272 - accuracy: 0.7235 - top-5-accuracy: 0.9444 - val_loss: 1.8962 - val_accuracy: 0.5300 - val_top-5-accuracy: 0.8102\n",
            "Epoch 69/100\n",
            "176/176 [==============================] - 147s 834ms/step - loss: 0.9053 - accuracy: 0.7292 - top-5-accuracy: 0.9487 - val_loss: 1.9304 - val_accuracy: 0.5328 - val_top-5-accuracy: 0.8084\n",
            "Epoch 70/100\n",
            "176/176 [==============================] - 147s 835ms/step - loss: 0.9108 - accuracy: 0.7260 - top-5-accuracy: 0.9462 - val_loss: 1.8753 - val_accuracy: 0.5356 - val_top-5-accuracy: 0.8116\n",
            "Epoch 71/100\n",
            "176/176 [==============================] - 146s 831ms/step - loss: 0.8979 - accuracy: 0.7304 - top-5-accuracy: 0.9492 - val_loss: 1.8961 - val_accuracy: 0.5304 - val_top-5-accuracy: 0.8110\n",
            "Epoch 72/100\n",
            "176/176 [==============================] - 146s 830ms/step - loss: 0.9089 - accuracy: 0.7258 - top-5-accuracy: 0.9478 - val_loss: 1.8958 - val_accuracy: 0.5324 - val_top-5-accuracy: 0.8060\n",
            "Epoch 73/100\n",
            "176/176 [==============================] - 146s 831ms/step - loss: 0.8876 - accuracy: 0.7319 - top-5-accuracy: 0.9489 - val_loss: 1.9475 - val_accuracy: 0.5280 - val_top-5-accuracy: 0.8024\n",
            "Epoch 74/100\n",
            "176/176 [==============================] - 146s 831ms/step - loss: 0.8888 - accuracy: 0.7322 - top-5-accuracy: 0.9493 - val_loss: 1.9070 - val_accuracy: 0.5356 - val_top-5-accuracy: 0.8124\n",
            "Epoch 75/100\n",
            "176/176 [==============================] - 146s 831ms/step - loss: 0.8775 - accuracy: 0.7356 - top-5-accuracy: 0.9511 - val_loss: 1.9410 - val_accuracy: 0.5178 - val_top-5-accuracy: 0.8034\n",
            "Epoch 76/100\n",
            "176/176 [==============================] - 146s 832ms/step - loss: 0.8696 - accuracy: 0.7384 - top-5-accuracy: 0.9506 - val_loss: 1.9315 - val_accuracy: 0.5306 - val_top-5-accuracy: 0.8104\n",
            "Epoch 77/100\n",
            "176/176 [==============================] - 146s 832ms/step - loss: 0.8617 - accuracy: 0.7420 - top-5-accuracy: 0.9513 - val_loss: 1.9243 - val_accuracy: 0.5328 - val_top-5-accuracy: 0.8056\n",
            "Epoch 78/100\n",
            "176/176 [==============================] - 146s 831ms/step - loss: 0.8456 - accuracy: 0.7480 - top-5-accuracy: 0.9538 - val_loss: 1.9201 - val_accuracy: 0.5336 - val_top-5-accuracy: 0.8106\n",
            "Epoch 79/100\n",
            "176/176 [==============================] - 146s 831ms/step - loss: 0.8520 - accuracy: 0.7447 - top-5-accuracy: 0.9538 - val_loss: 1.9451 - val_accuracy: 0.5320 - val_top-5-accuracy: 0.8100\n",
            "Epoch 80/100\n",
            "176/176 [==============================] - 146s 831ms/step - loss: 0.8471 - accuracy: 0.7451 - top-5-accuracy: 0.9533 - val_loss: 1.9442 - val_accuracy: 0.5270 - val_top-5-accuracy: 0.8166\n",
            "Epoch 81/100\n",
            "176/176 [==============================] - 146s 829ms/step - loss: 0.8263 - accuracy: 0.7517 - top-5-accuracy: 0.9559 - val_loss: 1.9574 - val_accuracy: 0.5352 - val_top-5-accuracy: 0.8014\n",
            "Epoch 82/100\n",
            "176/176 [==============================] - 146s 830ms/step - loss: 0.8269 - accuracy: 0.7488 - top-5-accuracy: 0.9562 - val_loss: 1.9200 - val_accuracy: 0.5266 - val_top-5-accuracy: 0.8102\n",
            "Epoch 83/100\n",
            "176/176 [==============================] - 147s 834ms/step - loss: 0.8259 - accuracy: 0.7524 - top-5-accuracy: 0.9560 - val_loss: 1.9137 - val_accuracy: 0.5400 - val_top-5-accuracy: 0.8116\n",
            "Epoch 84/100\n",
            "176/176 [==============================] - 146s 830ms/step - loss: 0.8213 - accuracy: 0.7523 - top-5-accuracy: 0.9564 - val_loss: 1.9346 - val_accuracy: 0.5374 - val_top-5-accuracy: 0.8044\n",
            "Epoch 85/100\n",
            "176/176 [==============================] - 146s 830ms/step - loss: 0.8177 - accuracy: 0.7557 - top-5-accuracy: 0.9578 - val_loss: 1.9313 - val_accuracy: 0.5374 - val_top-5-accuracy: 0.8110\n",
            "Epoch 86/100\n",
            "176/176 [==============================] - 146s 828ms/step - loss: 0.8057 - accuracy: 0.7567 - top-5-accuracy: 0.9586 - val_loss: 1.9353 - val_accuracy: 0.5384 - val_top-5-accuracy: 0.8038\n",
            "Epoch 87/100\n",
            "176/176 [==============================] - 146s 831ms/step - loss: 0.8052 - accuracy: 0.7588 - top-5-accuracy: 0.9575 - val_loss: 1.9626 - val_accuracy: 0.5322 - val_top-5-accuracy: 0.8148\n",
            "Epoch 88/100\n",
            "176/176 [==============================] - 146s 832ms/step - loss: 0.8018 - accuracy: 0.7587 - top-5-accuracy: 0.9569 - val_loss: 1.9502 - val_accuracy: 0.5384 - val_top-5-accuracy: 0.8034\n",
            "Epoch 89/100\n",
            "176/176 [==============================] - 146s 832ms/step - loss: 0.8029 - accuracy: 0.7579 - top-5-accuracy: 0.9592 - val_loss: 1.9696 - val_accuracy: 0.5316 - val_top-5-accuracy: 0.8064\n",
            "Epoch 90/100\n",
            "176/176 [==============================] - 146s 832ms/step - loss: 0.8058 - accuracy: 0.7550 - top-5-accuracy: 0.9580 - val_loss: 1.9573 - val_accuracy: 0.5318 - val_top-5-accuracy: 0.8088\n",
            "Epoch 91/100\n",
            " 72/176 [===========>..................] - ETA: 1:23 - loss: 0.7712 - accuracy: 0.7701 - top-5-accuracy: 0.9596"
          ]
        }
      ]
    }
  ]
}