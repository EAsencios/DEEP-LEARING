{
  "nbformat": 4,
  "nbformat_minor": 0,
  "metadata": {
    "colab": {
      "name": "Copy of Untitled4.ipynb",
      "provenance": [],
      "collapsed_sections": [],
      "authorship_tag": "ABX9TyNZQv2o1w/2jDcuwMkDeKUE",
      "include_colab_link": true
    },
    "kernelspec": {
      "name": "python3",
      "display_name": "Python 3"
    },
    "language_info": {
      "name": "python"
    }
  },
  "cells": [
    {
      "cell_type": "markdown",
      "metadata": {
        "id": "view-in-github",
        "colab_type": "text"
      },
      "source": [
        "<a href=\"https://colab.research.google.com/github/EAsencios/DEEP-LEARING/blob/master/Copy_of_Untitled4.ipynb\" target=\"_parent\"><img src=\"https://colab.research.google.com/assets/colab-badge.svg\" alt=\"Open In Colab\"/></a>"
      ]
    },
    {
      "cell_type": "code",
      "execution_count": null,
      "metadata": {
        "id": "a8tpg1e2ufa1"
      },
      "outputs": [],
      "source": [
        "import numpy as np"
      ]
    },
    {
      "cell_type": "code",
      "metadata": {
        "id": "XxJR5xKpJbB3",
        "colab": {
          "base_uri": "https://localhost:8080/"
        },
        "outputId": "64778376-8c6c-47e3-c1e6-ebc752f37853"
      },
      "source": [
        "one_dimensional_array = np.array([1.2, 2.4, 3.5, 4.7, 6.1, 7.2, 8.3, 9.5])\n",
        "print(one_dimensional_array)"
      ],
      "execution_count": null,
      "outputs": [
        {
          "output_type": "stream",
          "name": "stdout",
          "text": [
            "[1.2 2.4 3.5 4.7 6.1 7.2 8.3 9.5]\n"
          ]
        }
      ]
    },
    {
      "cell_type": "code",
      "metadata": {
        "id": "_veGj18eMCDu",
        "colab": {
          "base_uri": "https://localhost:8080/"
        },
        "outputId": "08e88ab6-7874-463a-e56e-8c82d2a1e675"
      },
      "source": [
        "two_dimensional_array = np.array([[6, 5], [11, 7], [4, 8]])\n",
        "print(two_dimensional_array)"
      ],
      "execution_count": null,
      "outputs": [
        {
          "output_type": "stream",
          "name": "stdout",
          "text": [
            "[[ 6  5]\n",
            " [11  7]\n",
            " [ 4  8]]\n"
          ]
        }
      ]
    },
    {
      "cell_type": "code",
      "metadata": {
        "id": "CjHfYWhdQYtO",
        "colab": {
          "base_uri": "https://localhost:8080/"
        },
        "outputId": "cc51e00d-e875-409b-d018-8cc4cad2e109"
      },
      "source": [
        "sequence_of_integers = np.arange(5, 12)\n",
        "print(sequence_of_integers)"
      ],
      "execution_count": null,
      "outputs": [
        {
          "output_type": "stream",
          "name": "stdout",
          "text": [
            "[ 5  6  7  8  9 10 11]\n"
          ]
        }
      ]
    },
    {
      "cell_type": "code",
      "metadata": {
        "id": "tG8ao9CsNqw8",
        "colab": {
          "base_uri": "https://localhost:8080/"
        },
        "outputId": "42490e71-3e38-485b-f96c-778539cf3e43"
      },
      "source": [
        "random_integers_between_50_and_100 = np.random.randint(low=50, high=101, size=(6))\n",
        "print(random_integers_between_50_and_100)"
      ],
      "execution_count": null,
      "outputs": [
        {
          "output_type": "stream",
          "name": "stdout",
          "text": [
            "[81 92 77 56 85 67]\n"
          ]
        }
      ]
    },
    {
      "cell_type": "code",
      "metadata": {
        "id": "6Ny0eXZPk5Ax",
        "colab": {
          "base_uri": "https://localhost:8080/"
        },
        "outputId": "13ad7a10-2200-442b-d7b8-778928265a66"
      },
      "source": [
        "random_floats_between_0_and_1 = np.random.random([6])\n",
        "print(random_floats_between_0_and_1) "
      ],
      "execution_count": null,
      "outputs": [
        {
          "output_type": "stream",
          "name": "stdout",
          "text": [
            "[0.5601335  0.14639169 0.55426888 0.55652911 0.43165343 0.53039173]\n"
          ]
        }
      ]
    },
    {
      "cell_type": "code",
      "metadata": {
        "id": "J5E5S0wjRvQr",
        "colab": {
          "base_uri": "https://localhost:8080/"
        },
        "outputId": "ccfb1317-0d5c-43d5-95f9-bbb85d82a276"
      },
      "source": [
        "random_floats_between_2_and_3 = random_floats_between_0_and_1 + 2.0\n",
        "print(random_floats_between_2_and_3)"
      ],
      "execution_count": null,
      "outputs": [
        {
          "output_type": "stream",
          "name": "stdout",
          "text": [
            "[2.5601335  2.14639169 2.55426888 2.55652911 2.43165343 2.53039173]\n"
          ]
        }
      ]
    },
    {
      "cell_type": "code",
      "metadata": {
        "id": "tYjvXmvFPoPB",
        "colab": {
          "base_uri": "https://localhost:8080/"
        },
        "outputId": "d733b8bf-d489-472e-f6d8-f35d54f2e167"
      },
      "source": [
        "random_integers_between_150_and_300 = random_integers_between_50_and_100 * 3\n",
        "print(random_integers_between_150_and_300)"
      ],
      "execution_count": null,
      "outputs": [
        {
          "output_type": "stream",
          "name": "stdout",
          "text": [
            "[243 276 231 168 255 201]\n"
          ]
        }
      ]
    },
    {
      "cell_type": "code",
      "source": [
        "feature = np.arange(6, 21)\n",
        "print(feature)"
      ],
      "metadata": {
        "colab": {
          "base_uri": "https://localhost:8080/"
        },
        "id": "Mu98LfSX0AX4",
        "outputId": "c3f28f6e-74f8-4d2a-9488-7c4a1252ceb3"
      },
      "execution_count": null,
      "outputs": [
        {
          "output_type": "stream",
          "name": "stdout",
          "text": [
            "[ 6  7  8  9 10 11 12 13 14 15 16 17 18 19 20]\n"
          ]
        }
      ]
    },
    {
      "cell_type": "code",
      "source": [
        "label = (3)*(feature)+4\n",
        "print(label)"
      ],
      "metadata": {
        "colab": {
          "base_uri": "https://localhost:8080/"
        },
        "id": "vtbyRN1byZ10",
        "outputId": "ba2a1fba-4250-4090-fe93-c4515a6c00c3"
      },
      "execution_count": null,
      "outputs": [
        {
          "output_type": "stream",
          "name": "stdout",
          "text": [
            "[22 25 28 31 34 37 40 43 46 49 52 55 58 61 64]\n"
          ]
        }
      ]
    },
    {
      "cell_type": "code",
      "source": [
        "noise = np.random.random(15)*4 -2\n",
        "print(noise)"
      ],
      "metadata": {
        "colab": {
          "base_uri": "https://localhost:8080/"
        },
        "id": "K2lN2KUi-99B",
        "outputId": "25f17285-0cce-453d-f6d6-372c4d530564"
      },
      "execution_count": null,
      "outputs": [
        {
          "output_type": "stream",
          "name": "stdout",
          "text": [
            "[ 1.0623649   1.73758807 -1.96808687  1.48345653 -0.71888058 -1.61476933\n",
            "  0.32818509  0.71356411  1.12302375 -1.89451312 -1.36392627  0.40895402\n",
            " -0.24161024 -1.76040546 -1.1732549 ]\n"
          ]
        }
      ]
    },
    {
      "cell_type": "code",
      "source": [
        "label = label + noise\n",
        "print(label)"
      ],
      "metadata": {
        "colab": {
          "base_uri": "https://localhost:8080/"
        },
        "id": "RdhQhCgUAtUM",
        "outputId": "3c1b9f4e-d174-45aa-95e8-e3cdcc93ee65"
      },
      "execution_count": null,
      "outputs": [
        {
          "output_type": "stream",
          "name": "stdout",
          "text": [
            "[23.0623649  26.73758807 26.03191313 32.48345653 33.28111942 35.38523067\n",
            " 40.32818509 43.71356411 47.12302375 47.10548688 50.63607373 55.40895402\n",
            " 57.75838976 59.23959454 62.8267451 ]\n"
          ]
        }
      ]
    }
  ]
}